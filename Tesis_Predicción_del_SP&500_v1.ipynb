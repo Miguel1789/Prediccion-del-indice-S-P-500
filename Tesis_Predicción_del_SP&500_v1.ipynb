{
  "cells": [
    {
      "cell_type": "markdown",
      "metadata": {
        "id": "view-in-github",
        "colab_type": "text"
      },
      "source": [
        "<a href=\"https://colab.research.google.com/github/Miguel1789/Prediccion-del-indice-S-P-500/blob/main/Tesis_Predicci%C3%B3n_del_SP%26500_v1.ipynb\" target=\"_parent\"><img src=\"https://colab.research.google.com/assets/colab-badge.svg\" alt=\"Open In Colab\"/></a>"
      ]
    },
    {
      "cell_type": "markdown",
      "metadata": {
        "id": "PpE9wYMyiHzc"
      },
      "source": [
        "# **PREDICCION DE PRECIOS DEL SP&500**"
      ]
    },
    {
      "cell_type": "markdown",
      "metadata": {
        "id": "rrPMne8MiHzi"
      },
      "source": [
        "En el siguiente notebook vamos a predecir los precios del indice SP&500. Los datos han sido obtenidos de la pagina de Twelve Data.com. Se ha considerado un lapso de 2 años, con un período de registro diario."
      ]
    },
    {
      "cell_type": "code",
      "execution_count": null,
      "metadata": {
        "id": "gJMPhKAyiHzj"
      },
      "outputs": [],
      "source": [
        "#conda install h5py==2.10.0"
      ]
    },
    {
      "cell_type": "code",
      "execution_count": null,
      "metadata": {
        "id": "E6DnftWGiHzl",
        "colab": {
          "base_uri": "https://localhost:8080/"
        },
        "outputId": "301e6383-20d4-4fa4-c008-d49fc79ecbd6"
      },
      "outputs": [
        {
          "output_type": "stream",
          "name": "stderr",
          "text": [
            "/usr/local/lib/python3.7/dist-packages/statsmodels/tools/_testing.py:19: FutureWarning: pandas.util.testing is deprecated. Use the functions in the public API at pandas.testing instead.\n",
            "  import pandas.util.testing as tm\n"
          ]
        }
      ],
      "source": [
        "import numpy as np\n",
        "import pandas as pd\n",
        "import matplotlib.pyplot as plt                    \n",
        "from sklearn.metrics import mean_squared_error\n",
        "from statsmodels.tools.eval_measures import rmse\n",
        "import warnings\n",
        "import matplotlib.pyplot as plt\n",
        "warnings.filterwarnings(\"ignore\")"
      ]
    },
    {
      "cell_type": "markdown",
      "metadata": {
        "id": "sfLOfWoHiHzm"
      },
      "source": [
        "# **IMPORTACION DE DATOS**"
      ]
    },
    {
      "cell_type": "code",
      "execution_count": null,
      "metadata": {
        "colab": {
          "base_uri": "https://localhost:8080/"
        },
        "id": "a0oX2J88inDm",
        "outputId": "3710d1be-ffbd-485f-b7c0-1cbfda6ec1e7"
      },
      "outputs": [
        {
          "output_type": "stream",
          "name": "stdout",
          "text": [
            "Mounted at /content/drive\n"
          ]
        }
      ],
      "source": [
        "from google.colab import drive\n",
        "drive.mount('/content/drive')"
      ]
    },
    {
      "cell_type": "code",
      "execution_count": null,
      "metadata": {
        "id": "I2En6OcPiHzm"
      },
      "outputs": [],
      "source": [
        "df = pd.read_csv('/content/drive/MyDrive/UNIR/FIN DE MASTER/BASES DE DATOS/Base Reducida CSV.csv')"
      ]
    },
    {
      "cell_type": "markdown",
      "metadata": {
        "id": "67gHdKf_pZYG"
      },
      "source": [
        "# **ESCOGIENDO UNA SEMILLA**"
      ]
    },
    {
      "cell_type": "code",
      "execution_count": null,
      "metadata": {
        "id": "yYBnY9V9pdgU"
      },
      "outputs": [],
      "source": [
        "import tensorflow as tf\n",
        "import numpy as np\n",
        "\n",
        "seed = 12\n",
        "tf.random.set_seed(seed)\n",
        "np.random.seed(seed)"
      ]
    },
    {
      "cell_type": "markdown",
      "metadata": {
        "id": "kK0e8XqwiHzq"
      },
      "source": [
        "# **GRAFICO DEL PRECIO DE CIERRE**"
      ]
    },
    {
      "cell_type": "code",
      "execution_count": null,
      "metadata": {
        "colab": {
          "base_uri": "https://localhost:8080/"
        },
        "id": "BB8axCG-3nrK",
        "outputId": "2287c9ba-4c5f-40ed-f481-f2666d8480ee"
      },
      "outputs": [
        {
          "output_type": "execute_result",
          "data": {
            "text/plain": [
              "    datetime        open        high         low       close      volume  \\\n",
              "0 2020-04-08  2685.00000  2760.75000  2663.30005  2749.97998  5856370000   \n",
              "1 2020-04-09  2776.98999  2818.57007  2762.36011  2789.82007  7880140000   \n",
              "2 2020-04-13  2782.45996  2782.45996  2721.16992  2761.62988  5274310000   \n",
              "3 2020-04-14  2805.10010  2851.85010  2805.10010  2846.06006  5567400000   \n",
              "4 2020-04-15  2795.63989  2801.87988  2761.54004  2783.36011  5203390000   \n",
              "\n",
              "           ma         ema      macd  macd_signal  ...            ad  \\\n",
              "0  2627.24883  2654.17041  35.57144      5.36852  ...  6.344565e+09   \n",
              "1  2689.83887  2702.87948  52.64621     21.22918  ...  6.007452e+09   \n",
              "2  2731.28331  2723.95603  57.02950     33.86259  ...  8.385008e+09   \n",
              "3  2772.35110  2767.81907  69.33698     45.82984  ...  1.413807e+10   \n",
              "4  2790.04555  2773.49701  65.28774     53.19205  ...  1.477551e+10   \n",
              "\n",
              "   aroon_down   aroon_up  supertrend   correl       mfi  Tweets Negativos  \\\n",
              "0    28.57143  100.00000  2387.38749  0.76371  65.53037                 0   \n",
              "1    14.28571  100.00000  2492.12638  0.75104  80.02560                 6   \n",
              "2     0.00000   85.71429  2492.12638  0.50575  86.27138                14   \n",
              "3     0.00000  100.00000  2564.44334  0.61038  77.01337                 6   \n",
              "4     0.00000   85.71429  2564.44334  0.65679  74.80067                 4   \n",
              "\n",
              "   Tweets Indiferentes  Tweets Positivos  Tweets Ponderados  \n",
              "0                    0                 3           1.000000  \n",
              "1                    7                 4          -0.117647  \n",
              "2                   15                17           0.065217  \n",
              "3                    7                11           0.208333  \n",
              "4                    6                 5           0.066667  \n",
              "\n",
              "[5 rows x 35 columns]"
            ],
            "text/html": [
              "\n",
              "  <div id=\"df-eb0ede8d-02b6-4810-a865-450d2c1be3f9\">\n",
              "    <div class=\"colab-df-container\">\n",
              "      <div>\n",
              "<style scoped>\n",
              "    .dataframe tbody tr th:only-of-type {\n",
              "        vertical-align: middle;\n",
              "    }\n",
              "\n",
              "    .dataframe tbody tr th {\n",
              "        vertical-align: top;\n",
              "    }\n",
              "\n",
              "    .dataframe thead th {\n",
              "        text-align: right;\n",
              "    }\n",
              "</style>\n",
              "<table border=\"1\" class=\"dataframe\">\n",
              "  <thead>\n",
              "    <tr style=\"text-align: right;\">\n",
              "      <th></th>\n",
              "      <th>datetime</th>\n",
              "      <th>open</th>\n",
              "      <th>high</th>\n",
              "      <th>low</th>\n",
              "      <th>close</th>\n",
              "      <th>volume</th>\n",
              "      <th>ma</th>\n",
              "      <th>ema</th>\n",
              "      <th>macd</th>\n",
              "      <th>macd_signal</th>\n",
              "      <th>...</th>\n",
              "      <th>ad</th>\n",
              "      <th>aroon_down</th>\n",
              "      <th>aroon_up</th>\n",
              "      <th>supertrend</th>\n",
              "      <th>correl</th>\n",
              "      <th>mfi</th>\n",
              "      <th>Tweets Negativos</th>\n",
              "      <th>Tweets Indiferentes</th>\n",
              "      <th>Tweets Positivos</th>\n",
              "      <th>Tweets Ponderados</th>\n",
              "    </tr>\n",
              "  </thead>\n",
              "  <tbody>\n",
              "    <tr>\n",
              "      <th>0</th>\n",
              "      <td>2020-04-08</td>\n",
              "      <td>2685.00000</td>\n",
              "      <td>2760.75000</td>\n",
              "      <td>2663.30005</td>\n",
              "      <td>2749.97998</td>\n",
              "      <td>5856370000</td>\n",
              "      <td>2627.24883</td>\n",
              "      <td>2654.17041</td>\n",
              "      <td>35.57144</td>\n",
              "      <td>5.36852</td>\n",
              "      <td>...</td>\n",
              "      <td>6.344565e+09</td>\n",
              "      <td>28.57143</td>\n",
              "      <td>100.00000</td>\n",
              "      <td>2387.38749</td>\n",
              "      <td>0.76371</td>\n",
              "      <td>65.53037</td>\n",
              "      <td>0</td>\n",
              "      <td>0</td>\n",
              "      <td>3</td>\n",
              "      <td>1.000000</td>\n",
              "    </tr>\n",
              "    <tr>\n",
              "      <th>1</th>\n",
              "      <td>2020-04-09</td>\n",
              "      <td>2776.98999</td>\n",
              "      <td>2818.57007</td>\n",
              "      <td>2762.36011</td>\n",
              "      <td>2789.82007</td>\n",
              "      <td>7880140000</td>\n",
              "      <td>2689.83887</td>\n",
              "      <td>2702.87948</td>\n",
              "      <td>52.64621</td>\n",
              "      <td>21.22918</td>\n",
              "      <td>...</td>\n",
              "      <td>6.007452e+09</td>\n",
              "      <td>14.28571</td>\n",
              "      <td>100.00000</td>\n",
              "      <td>2492.12638</td>\n",
              "      <td>0.75104</td>\n",
              "      <td>80.02560</td>\n",
              "      <td>6</td>\n",
              "      <td>7</td>\n",
              "      <td>4</td>\n",
              "      <td>-0.117647</td>\n",
              "    </tr>\n",
              "    <tr>\n",
              "      <th>2</th>\n",
              "      <td>2020-04-13</td>\n",
              "      <td>2782.45996</td>\n",
              "      <td>2782.45996</td>\n",
              "      <td>2721.16992</td>\n",
              "      <td>2761.62988</td>\n",
              "      <td>5274310000</td>\n",
              "      <td>2731.28331</td>\n",
              "      <td>2723.95603</td>\n",
              "      <td>57.02950</td>\n",
              "      <td>33.86259</td>\n",
              "      <td>...</td>\n",
              "      <td>8.385008e+09</td>\n",
              "      <td>0.00000</td>\n",
              "      <td>85.71429</td>\n",
              "      <td>2492.12638</td>\n",
              "      <td>0.50575</td>\n",
              "      <td>86.27138</td>\n",
              "      <td>14</td>\n",
              "      <td>15</td>\n",
              "      <td>17</td>\n",
              "      <td>0.065217</td>\n",
              "    </tr>\n",
              "    <tr>\n",
              "      <th>3</th>\n",
              "      <td>2020-04-14</td>\n",
              "      <td>2805.10010</td>\n",
              "      <td>2851.85010</td>\n",
              "      <td>2805.10010</td>\n",
              "      <td>2846.06006</td>\n",
              "      <td>5567400000</td>\n",
              "      <td>2772.35110</td>\n",
              "      <td>2767.81907</td>\n",
              "      <td>69.33698</td>\n",
              "      <td>45.82984</td>\n",
              "      <td>...</td>\n",
              "      <td>1.413807e+10</td>\n",
              "      <td>0.00000</td>\n",
              "      <td>100.00000</td>\n",
              "      <td>2564.44334</td>\n",
              "      <td>0.61038</td>\n",
              "      <td>77.01337</td>\n",
              "      <td>6</td>\n",
              "      <td>7</td>\n",
              "      <td>11</td>\n",
              "      <td>0.208333</td>\n",
              "    </tr>\n",
              "    <tr>\n",
              "      <th>4</th>\n",
              "      <td>2020-04-15</td>\n",
              "      <td>2795.63989</td>\n",
              "      <td>2801.87988</td>\n",
              "      <td>2761.54004</td>\n",
              "      <td>2783.36011</td>\n",
              "      <td>5203390000</td>\n",
              "      <td>2790.04555</td>\n",
              "      <td>2773.49701</td>\n",
              "      <td>65.28774</td>\n",
              "      <td>53.19205</td>\n",
              "      <td>...</td>\n",
              "      <td>1.477551e+10</td>\n",
              "      <td>0.00000</td>\n",
              "      <td>85.71429</td>\n",
              "      <td>2564.44334</td>\n",
              "      <td>0.65679</td>\n",
              "      <td>74.80067</td>\n",
              "      <td>4</td>\n",
              "      <td>6</td>\n",
              "      <td>5</td>\n",
              "      <td>0.066667</td>\n",
              "    </tr>\n",
              "  </tbody>\n",
              "</table>\n",
              "<p>5 rows × 35 columns</p>\n",
              "</div>\n",
              "      <button class=\"colab-df-convert\" onclick=\"convertToInteractive('df-eb0ede8d-02b6-4810-a865-450d2c1be3f9')\"\n",
              "              title=\"Convert this dataframe to an interactive table.\"\n",
              "              style=\"display:none;\">\n",
              "        \n",
              "  <svg xmlns=\"http://www.w3.org/2000/svg\" height=\"24px\"viewBox=\"0 0 24 24\"\n",
              "       width=\"24px\">\n",
              "    <path d=\"M0 0h24v24H0V0z\" fill=\"none\"/>\n",
              "    <path d=\"M18.56 5.44l.94 2.06.94-2.06 2.06-.94-2.06-.94-.94-2.06-.94 2.06-2.06.94zm-11 1L8.5 8.5l.94-2.06 2.06-.94-2.06-.94L8.5 2.5l-.94 2.06-2.06.94zm10 10l.94 2.06.94-2.06 2.06-.94-2.06-.94-.94-2.06-.94 2.06-2.06.94z\"/><path d=\"M17.41 7.96l-1.37-1.37c-.4-.4-.92-.59-1.43-.59-.52 0-1.04.2-1.43.59L10.3 9.45l-7.72 7.72c-.78.78-.78 2.05 0 2.83L4 21.41c.39.39.9.59 1.41.59.51 0 1.02-.2 1.41-.59l7.78-7.78 2.81-2.81c.8-.78.8-2.07 0-2.86zM5.41 20L4 18.59l7.72-7.72 1.47 1.35L5.41 20z\"/>\n",
              "  </svg>\n",
              "      </button>\n",
              "      \n",
              "  <style>\n",
              "    .colab-df-container {\n",
              "      display:flex;\n",
              "      flex-wrap:wrap;\n",
              "      gap: 12px;\n",
              "    }\n",
              "\n",
              "    .colab-df-convert {\n",
              "      background-color: #E8F0FE;\n",
              "      border: none;\n",
              "      border-radius: 50%;\n",
              "      cursor: pointer;\n",
              "      display: none;\n",
              "      fill: #1967D2;\n",
              "      height: 32px;\n",
              "      padding: 0 0 0 0;\n",
              "      width: 32px;\n",
              "    }\n",
              "\n",
              "    .colab-df-convert:hover {\n",
              "      background-color: #E2EBFA;\n",
              "      box-shadow: 0px 1px 2px rgba(60, 64, 67, 0.3), 0px 1px 3px 1px rgba(60, 64, 67, 0.15);\n",
              "      fill: #174EA6;\n",
              "    }\n",
              "\n",
              "    [theme=dark] .colab-df-convert {\n",
              "      background-color: #3B4455;\n",
              "      fill: #D2E3FC;\n",
              "    }\n",
              "\n",
              "    [theme=dark] .colab-df-convert:hover {\n",
              "      background-color: #434B5C;\n",
              "      box-shadow: 0px 1px 3px 1px rgba(0, 0, 0, 0.15);\n",
              "      filter: drop-shadow(0px 1px 2px rgba(0, 0, 0, 0.3));\n",
              "      fill: #FFFFFF;\n",
              "    }\n",
              "  </style>\n",
              "\n",
              "      <script>\n",
              "        const buttonEl =\n",
              "          document.querySelector('#df-eb0ede8d-02b6-4810-a865-450d2c1be3f9 button.colab-df-convert');\n",
              "        buttonEl.style.display =\n",
              "          google.colab.kernel.accessAllowed ? 'block' : 'none';\n",
              "\n",
              "        async function convertToInteractive(key) {\n",
              "          const element = document.querySelector('#df-eb0ede8d-02b6-4810-a865-450d2c1be3f9');\n",
              "          const dataTable =\n",
              "            await google.colab.kernel.invokeFunction('convertToInteractive',\n",
              "                                                     [key], {});\n",
              "          if (!dataTable) return;\n",
              "\n",
              "          const docLinkHtml = 'Like what you see? Visit the ' +\n",
              "            '<a target=\"_blank\" href=https://colab.research.google.com/notebooks/data_table.ipynb>data table notebook</a>'\n",
              "            + ' to learn more about interactive tables.';\n",
              "          element.innerHTML = '';\n",
              "          dataTable['output_type'] = 'display_data';\n",
              "          await google.colab.output.renderOutput(dataTable, element);\n",
              "          const docLink = document.createElement('div');\n",
              "          docLink.innerHTML = docLinkHtml;\n",
              "          element.appendChild(docLink);\n",
              "        }\n",
              "      </script>\n",
              "    </div>\n",
              "  </div>\n",
              "  "
            ]
          },
          "metadata": {},
          "execution_count": 6
        }
      ],
      "source": [
        "#Formateamos el dato fecha para que sea del tipo correcto\n",
        "df.datetime= pd.to_datetime(df.datetime)\n",
        "\n",
        "#Es importante para una serie temporal que los datos esten ordenados de más nuevo a más antiguo\n",
        "df=df.sort_values(\"datetime\")\n",
        "\n",
        "#Establecemos la fecha como indice\n",
        "df= df.set_index(\"datetime\")\n",
        "\n",
        "#Restablecemos a índice numérico para realizar operaciones\n",
        "df=df.reset_index()\n",
        "\n",
        "df.head()"
      ]
    },
    {
      "cell_type": "code",
      "execution_count": null,
      "metadata": {
        "colab": {
          "base_uri": "https://localhost:8080/"
        },
        "id": "1mhCElF8iHzr",
        "outputId": "c87bb9f8-6688-4591-b73b-2ab8da9778d1"
      },
      "outputs": [
        {
          "output_type": "execute_result",
          "data": {
            "text/plain": [
              "Text(0.5, 1.0, 'SP&500')"
            ]
          },
          "metadata": {},
          "execution_count": 7
        },
        {
          "output_type": "display_data",
          "data": {
            "text/plain": [
              "<Figure size 432x288 with 1 Axes>"
            ],
            "image/png": "[encoded data removed]"
          },
          "metadata": {
            "needs_background": "light"
          }
        }
      ],
      "source": [
        "df.plot(x=\"datetime\",y=\"close\")\n",
        "plt.figsize=(16,5)\n",
        "plt.xlabel('Fecha')\n",
        "plt.ylabel('Precio de Cierre')\n",
        "plt.title('SP&500')\n"
      ]
    },
    {
      "cell_type": "markdown",
      "metadata": {
        "id": "rvcHE2ocDIDp"
      },
      "source": [
        "# **PREPROCESO DE DATOS**"
      ]
    },
    {
      "cell_type": "markdown",
      "metadata": {
        "id": "REtWWxfVDqii"
      },
      "source": [
        "Proceso de expansión de características."
      ]
    },
    {
      "cell_type": "code",
      "execution_count": null,
      "metadata": {
        "id": "rJK0SaUaDGo5"
      },
      "outputs": [],
      "source": [
        "#Preproceso Min-Max Scaling [0,1] para las variables determinadas\n",
        "from sklearn.preprocessing import MinMaxScaler\n",
        "scaler = MinMaxScaler()\n",
        "\n",
        "dfmin=df[['open', 'high','low','close','volume','ma','ema','rsi','sar','adx',\n",
        "          'STOCH slow_k','STOCH slow_d','stddev','BBANDS upper_band',\n",
        "          'BBANDS middle_band','BBANDS lower_band','willr','percent_b',\n",
        "          'obv','aroon_down','aroon_up','supertrend','mfi','Tweets Negativos',\n",
        "          'Tweets Indiferentes','Tweets Positivos']]\n",
        "\n",
        "scaler.fit(dfmin)\n",
        "scaled_data = scaler.transform(dfmin)\n",
        "\n",
        "dft1=pd.DataFrame(scaled_data)\n",
        "dft1.columns=['open0', 'high0','low0','close0','volume0','ma0','ema0','rsi0','sar0','adx0',\n",
        "          'STOCH slow_k0','STOCH slow_d0','stddev0','BBANDS upper_band0',\n",
        "          'BBANDS middle_band0','BBANDS lower_band0','willr0','percent_b0',\n",
        "          'obv0','aroon_down0','aroon_up0','supertrend0','mfi0','Tweets Negativos0',\n",
        "          'Tweets Indiferentes0','Tweets Positivos0']"
      ]
    },
    {
      "cell_type": "code",
      "execution_count": null,
      "metadata": {
        "id": "2glgDjk2WvVJ"
      },
      "outputs": [],
      "source": [
        "#Preproceso Min-Max Scaling [-1,1] para las variables determinadas\n",
        "from sklearn.preprocessing import MinMaxScaler\n",
        "scaler = MinMaxScaler(feature_range=(-1,1))\n",
        "\n",
        "dfmin=df[['macd','macd_signal','macd_hist','ppo','cci','ad','correl','Tweets Ponderados']]\n",
        "\n",
        "scaler.fit(dfmin)\n",
        "scaled_data = scaler.transform(dfmin)\n",
        "\n",
        "dft2=pd.DataFrame(scaled_data)\n",
        "dft2.columns=['macd1','macd_signal1','macd_hist1','ppo1','cci1','ad1','correl1','Tweets Ponderados1']"
      ]
    },
    {
      "cell_type": "code",
      "execution_count": null,
      "metadata": {
        "id": "CW7C-bSKY5WT"
      },
      "outputs": [],
      "source": [
        "#Preproceso Fluctuación para las variables determinadas\n",
        "from sklearn.preprocessing import MinMaxScaler\n",
        "scaler = MinMaxScaler(feature_range=(-1,1))\n",
        "\n",
        "df0=df\n",
        "df0=df0.drop([0],axis=0)\n",
        "nueva_fila=df0.loc[[len(df0)],:]\n",
        "df0=df0.append(nueva_fila, ignore_index=True)\n",
        "col_flu=['open','high','low','volume','ma','ema','rsi','sar','adx','stddev','ad','supertrend']\n",
        "\n",
        "dfflu=(df[col_flu]-df0[col_flu])/df0[col_flu]\n",
        "\n",
        "scaler.fit(dfflu)\n",
        "scaled_data = scaler.transform(dfflu)\n",
        "\n",
        "dft3=pd.DataFrame(scaled_data)\n",
        "dft3.columns=['openf', 'highf','lowf','volumef','maf','emaf','rsif','sarf','adxf',\n",
        "          'stddevf', 'adf','supertrendf']"
      ]
    },
    {
      "cell_type": "code",
      "execution_count": null,
      "metadata": {
        "id": "ZYfiBc2Uh9I2"
      },
      "outputs": [],
      "source": [
        "#Preproceso Control para las variables determinadas\n",
        "import numpy as np\n",
        "#Para estas variables solo se controla si esta por encima o debajo de 0\n",
        "dfcon1=df[['macd','macd_signal','macd_hist','ppo']]\n",
        "\n",
        "dfcon1=pd.DataFrame(np.sign(dfcon1))\n",
        "dfcon1.columns=['macdc','macd_signalc','macd_histc','ppoc']"
      ]
    },
    {
      "cell_type": "code",
      "execution_count": null,
      "metadata": {
        "id": "lPLclz6ayBdo"
      },
      "outputs": [],
      "source": [
        "#Para variables con sus propios parámetros de control\n",
        "dfcon2=df[['rsi','adx','STOCH slow_k','STOCH slow_d','willr','cci','percent_b','mfi']]\n",
        "cond=pd.DataFrame({'var':['rsi','adx','STOCH slow_k','STOCH slow_d',\n",
        "                          'willr','cci','percent_b','mfi'],\n",
        "                   'max':[70,40,80,80,-20,100,0.8,80],\n",
        "                   'min':[30,25,20,20,-80,-100,0.2,20]})\n",
        "for j in range(0,len(cond)):\n",
        "  for i in range(0,len(df)):\n",
        "    if df.loc[i,cond.loc[j,'var']]>cond.loc[j,'max']:\n",
        "      dfcon2.loc[i,cond.loc[j,'var']]=1\n",
        "    else:\n",
        "      if df.loc[i,cond.loc[j,'var']]<cond.loc[j,'min']:\n",
        "        dfcon2.loc[i,cond.loc[j,'var']]=-1\n",
        "      else:\n",
        "        dfcon2.loc[i,cond.loc[j,'var']]=0\n",
        "\n",
        "dfcon2.columns=['rsic','adxc','STOCH slow_kc','STOCH slow_dc','willrc','ccic','percent_bc','mfic']"
      ]
    },
    {
      "cell_type": "code",
      "execution_count": null,
      "metadata": {
        "id": "jJHkD94lodjJ"
      },
      "outputs": [],
      "source": [
        "#Estas variables se comparan con parámetros dinámicos\n",
        "dfcon31=df[['BBANDS upper_band','BBANDS lower_band','aroon_down','aroon_up']]\n",
        "dfcon32=df[['close','close','aroon_up','aroon_down']]\n",
        "dfcon32.columns=['BBANDS upper_band','BBANDS lower_band','aroon_down','aroon_up']\n",
        "dfcon3=pd.DataFrame(np.sign(dfcon31.sub(dfcon32)))\n",
        "\n",
        "dfcon3.columns=['BBANDS upper_bandc','BBANDS lower_bandc','aroon_downc','aroon_upc']\n",
        "\n",
        "dft4=pd.concat([dfcon1,dfcon2,dfcon3], axis=1)"
      ]
    },
    {
      "cell_type": "code",
      "execution_count": null,
      "metadata": {
        "colab": {
          "base_uri": "https://localhost:8080/"
        },
        "id": "ubGLmOrF4XPj",
        "outputId": "30aeddbf-3f16-431c-dc8b-e70df4e332a4"
      },
      "outputs": [
        {
          "output_type": "display_data",
          "data": {
            "text/plain": [
              "     datetime     open0     high0      low0    close0   volume0       ma0  \\\n",
              "0  2020-04-08  0.000000  0.000000  0.000000  0.027066  0.408072  0.000000   \n",
              "1  2020-04-09  0.170043  0.121082  0.184312  0.107416  0.841911  0.110123   \n",
              "2  2020-04-13  0.180154  0.045463  0.107673  0.050561  0.283295  0.183042   \n",
              "3  2020-04-14  0.222005  0.190774  0.263834  0.220842  0.346125  0.255298   \n",
              "4  2020-04-15  0.204518  0.086130  0.182786  0.094387  0.268091  0.286430   \n",
              "..        ...       ...       ...       ...       ...       ...       ...   \n",
              "64 2020-07-10  0.864117  0.892237  0.879917  0.904504  0.120593  0.896575   \n",
              "65 2020-07-13  0.961367  0.993802  0.904495  0.844362  0.201077  0.916511   \n",
              "66 2020-07-14  0.843118  0.921827  0.863990  0.929674  0.112196  0.935519   \n",
              "67 2020-07-15  1.000000  1.000000  1.000000  0.988242  0.153696  0.957160   \n",
              "68 2020-07-16  0.967430  0.962536  0.995963  0.966077  0.001807  0.973886   \n",
              "\n",
              "        ema0      rsi0      sar0  ...  STOCH slow_kc  STOCH slow_dc  willrc  \\\n",
              "0   0.000000  0.545467  0.000000  ...            1.0            1.0     1.0   \n",
              "1   0.091984  0.594018  0.092798  ...            1.0            1.0     1.0   \n",
              "2   0.131785  0.525405  0.174852  ...            1.0            1.0     1.0   \n",
              "3   0.214618  0.639520  0.223483  ...            1.0            1.0     1.0   \n",
              "4   0.225340  0.481224  0.422093  ...            0.0            1.0     0.0   \n",
              "..       ...       ...       ...  ...            ...            ...     ...   \n",
              "64  0.920115  0.496419  0.732009  ...            1.0            1.0     1.0   \n",
              "65  0.925331  0.394717  0.751927  ...            0.0            1.0     0.0   \n",
              "66  0.945481  0.493972  0.782283  ...            1.0            1.0     1.0   \n",
              "67  0.972568  0.554120  0.808997  ...            1.0            1.0     1.0   \n",
              "68  0.990087  0.515164  0.837053  ...            1.0            1.0     1.0   \n",
              "\n",
              "    ccic  percent_bc  mfic  BBANDS upper_bandc  BBANDS lower_bandc  \\\n",
              "0    1.0         1.0   0.0                 1.0                -1.0   \n",
              "1    1.0         1.0   1.0                 1.0                -1.0   \n",
              "2    0.0         1.0   1.0                 1.0                -1.0   \n",
              "3    1.0         1.0   0.0                 1.0                -1.0   \n",
              "4    0.0         0.0   0.0                 1.0                -1.0   \n",
              "..   ...         ...   ...                 ...                 ...   \n",
              "64   1.0         1.0   0.0                 1.0                -1.0   \n",
              "65   1.0         0.0   0.0                 1.0                -1.0   \n",
              "66   0.0         1.0   0.0                 1.0                -1.0   \n",
              "67   1.0         1.0   0.0                 1.0                -1.0   \n",
              "68   1.0         1.0   0.0                 1.0                -1.0   \n",
              "\n",
              "    aroon_downc  aroon_upc  \n",
              "0          -1.0        1.0  \n",
              "1          -1.0        1.0  \n",
              "2          -1.0        1.0  \n",
              "3          -1.0        1.0  \n",
              "4          -1.0        1.0  \n",
              "..          ...        ...  \n",
              "64         -1.0        1.0  \n",
              "65         -1.0        1.0  \n",
              "66         -1.0        1.0  \n",
              "67         -1.0        1.0  \n",
              "68         -1.0        1.0  \n",
              "\n",
              "[69 rows x 63 columns]"
            ],
            "text/html": [
              "\n",
              "  <div id=\"df-739f227c-bdbf-47e4-9d18-59711e6b866b\">\n",
              "    <div class=\"colab-df-container\">\n",
              "      <div>\n",
              "<style scoped>\n",
              "    .dataframe tbody tr th:only-of-type {\n",
              "        vertical-align: middle;\n",
              "    }\n",
              "\n",
              "    .dataframe tbody tr th {\n",
              "        vertical-align: top;\n",
              "    }\n",
              "\n",
              "    .dataframe thead th {\n",
              "        text-align: right;\n",
              "    }\n",
              "</style>\n",
              "<table border=\"1\" class=\"dataframe\">\n",
              "  <thead>\n",
              "    <tr style=\"text-align: right;\">\n",
              "      <th></th>\n",
              "      <th>datetime</th>\n",
              "      <th>open0</th>\n",
              "      <th>high0</th>\n",
              "      <th>low0</th>\n",
              "      <th>close0</th>\n",
              "      <th>volume0</th>\n",
              "      <th>ma0</th>\n",
              "      <th>ema0</th>\n",
              "      <th>rsi0</th>\n",
              "      <th>sar0</th>\n",
              "      <th>...</th>\n",
              "      <th>STOCH slow_kc</th>\n",
              "      <th>STOCH slow_dc</th>\n",
              "      <th>willrc</th>\n",
              "      <th>ccic</th>\n",
              "      <th>percent_bc</th>\n",
              "      <th>mfic</th>\n",
              "      <th>BBANDS upper_bandc</th>\n",
              "      <th>BBANDS lower_bandc</th>\n",
              "      <th>aroon_downc</th>\n",
              "      <th>aroon_upc</th>\n",
              "    </tr>\n",
              "  </thead>\n",
              "  <tbody>\n",
              "    <tr>\n",
              "      <th>0</th>\n",
              "      <td>2020-04-08</td>\n",
              "      <td>0.000000</td>\n",
              "      <td>0.000000</td>\n",
              "      <td>0.000000</td>\n",
              "      <td>0.027066</td>\n",
              "      <td>0.408072</td>\n",
              "      <td>0.000000</td>\n",
              "      <td>0.000000</td>\n",
              "      <td>0.545467</td>\n",
              "      <td>0.000000</td>\n",
              "      <td>...</td>\n",
              "      <td>1.0</td>\n",
              "      <td>1.0</td>\n",
              "      <td>1.0</td>\n",
              "      <td>1.0</td>\n",
              "      <td>1.0</td>\n",
              "      <td>0.0</td>\n",
              "      <td>1.0</td>\n",
              "      <td>-1.0</td>\n",
              "      <td>-1.0</td>\n",
              "      <td>1.0</td>\n",
              "    </tr>\n",
              "    <tr>\n",
              "      <th>1</th>\n",
              "      <td>2020-04-09</td>\n",
              "      <td>0.170043</td>\n",
              "      <td>0.121082</td>\n",
              "      <td>0.184312</td>\n",
              "      <td>0.107416</td>\n",
              "      <td>0.841911</td>\n",
              "      <td>0.110123</td>\n",
              "      <td>0.091984</td>\n",
              "      <td>0.594018</td>\n",
              "      <td>0.092798</td>\n",
              "      <td>...</td>\n",
              "      <td>1.0</td>\n",
              "      <td>1.0</td>\n",
              "      <td>1.0</td>\n",
              "      <td>1.0</td>\n",
              "      <td>1.0</td>\n",
              "      <td>1.0</td>\n",
              "      <td>1.0</td>\n",
              "      <td>-1.0</td>\n",
              "      <td>-1.0</td>\n",
              "      <td>1.0</td>\n",
              "    </tr>\n",
              "    <tr>\n",
              "      <th>2</th>\n",
              "      <td>2020-04-13</td>\n",
              "      <td>0.180154</td>\n",
              "      <td>0.045463</td>\n",
              "      <td>0.107673</td>\n",
              "      <td>0.050561</td>\n",
              "      <td>0.283295</td>\n",
              "      <td>0.183042</td>\n",
              "      <td>0.131785</td>\n",
              "      <td>0.525405</td>\n",
              "      <td>0.174852</td>\n",
              "      <td>...</td>\n",
              "      <td>1.0</td>\n",
              "      <td>1.0</td>\n",
              "      <td>1.0</td>\n",
              "      <td>0.0</td>\n",
              "      <td>1.0</td>\n",
              "      <td>1.0</td>\n",
              "      <td>1.0</td>\n",
              "      <td>-1.0</td>\n",
              "      <td>-1.0</td>\n",
              "      <td>1.0</td>\n",
              "    </tr>\n",
              "    <tr>\n",
              "      <th>3</th>\n",
              "      <td>2020-04-14</td>\n",
              "      <td>0.222005</td>\n",
              "      <td>0.190774</td>\n",
              "      <td>0.263834</td>\n",
              "      <td>0.220842</td>\n",
              "      <td>0.346125</td>\n",
              "      <td>0.255298</td>\n",
              "      <td>0.214618</td>\n",
              "      <td>0.639520</td>\n",
              "      <td>0.223483</td>\n",
              "      <td>...</td>\n",
              "      <td>1.0</td>\n",
              "      <td>1.0</td>\n",
              "      <td>1.0</td>\n",
              "      <td>1.0</td>\n",
              "      <td>1.0</td>\n",
              "      <td>0.0</td>\n",
              "      <td>1.0</td>\n",
              "      <td>-1.0</td>\n",
              "      <td>-1.0</td>\n",
              "      <td>1.0</td>\n",
              "    </tr>\n",
              "    <tr>\n",
              "      <th>4</th>\n",
              "      <td>2020-04-15</td>\n",
              "      <td>0.204518</td>\n",
              "      <td>0.086130</td>\n",
              "      <td>0.182786</td>\n",
              "      <td>0.094387</td>\n",
              "      <td>0.268091</td>\n",
              "      <td>0.286430</td>\n",
              "      <td>0.225340</td>\n",
              "      <td>0.481224</td>\n",
              "      <td>0.422093</td>\n",
              "      <td>...</td>\n",
              "      <td>0.0</td>\n",
              "      <td>1.0</td>\n",
              "      <td>0.0</td>\n",
              "      <td>0.0</td>\n",
              "      <td>0.0</td>\n",
              "      <td>0.0</td>\n",
              "      <td>1.0</td>\n",
              "      <td>-1.0</td>\n",
              "      <td>-1.0</td>\n",
              "      <td>1.0</td>\n",
              "    </tr>\n",
              "    <tr>\n",
              "      <th>...</th>\n",
              "      <td>...</td>\n",
              "      <td>...</td>\n",
              "      <td>...</td>\n",
              "      <td>...</td>\n",
              "      <td>...</td>\n",
              "      <td>...</td>\n",
              "      <td>...</td>\n",
              "      <td>...</td>\n",
              "      <td>...</td>\n",
              "      <td>...</td>\n",
              "      <td>...</td>\n",
              "      <td>...</td>\n",
              "      <td>...</td>\n",
              "      <td>...</td>\n",
              "      <td>...</td>\n",
              "      <td>...</td>\n",
              "      <td>...</td>\n",
              "      <td>...</td>\n",
              "      <td>...</td>\n",
              "      <td>...</td>\n",
              "      <td>...</td>\n",
              "    </tr>\n",
              "    <tr>\n",
              "      <th>64</th>\n",
              "      <td>2020-07-10</td>\n",
              "      <td>0.864117</td>\n",
              "      <td>0.892237</td>\n",
              "      <td>0.879917</td>\n",
              "      <td>0.904504</td>\n",
              "      <td>0.120593</td>\n",
              "      <td>0.896575</td>\n",
              "      <td>0.920115</td>\n",
              "      <td>0.496419</td>\n",
              "      <td>0.732009</td>\n",
              "      <td>...</td>\n",
              "      <td>1.0</td>\n",
              "      <td>1.0</td>\n",
              "      <td>1.0</td>\n",
              "      <td>1.0</td>\n",
              "      <td>1.0</td>\n",
              "      <td>0.0</td>\n",
              "      <td>1.0</td>\n",
              "      <td>-1.0</td>\n",
              "      <td>-1.0</td>\n",
              "      <td>1.0</td>\n",
              "    </tr>\n",
              "    <tr>\n",
              "      <th>65</th>\n",
              "      <td>2020-07-13</td>\n",
              "      <td>0.961367</td>\n",
              "      <td>0.993802</td>\n",
              "      <td>0.904495</td>\n",
              "      <td>0.844362</td>\n",
              "      <td>0.201077</td>\n",
              "      <td>0.916511</td>\n",
              "      <td>0.925331</td>\n",
              "      <td>0.394717</td>\n",
              "      <td>0.751927</td>\n",
              "      <td>...</td>\n",
              "      <td>0.0</td>\n",
              "      <td>1.0</td>\n",
              "      <td>0.0</td>\n",
              "      <td>1.0</td>\n",
              "      <td>0.0</td>\n",
              "      <td>0.0</td>\n",
              "      <td>1.0</td>\n",
              "      <td>-1.0</td>\n",
              "      <td>-1.0</td>\n",
              "      <td>1.0</td>\n",
              "    </tr>\n",
              "    <tr>\n",
              "      <th>66</th>\n",
              "      <td>2020-07-14</td>\n",
              "      <td>0.843118</td>\n",
              "      <td>0.921827</td>\n",
              "      <td>0.863990</td>\n",
              "      <td>0.929674</td>\n",
              "      <td>0.112196</td>\n",
              "      <td>0.935519</td>\n",
              "      <td>0.945481</td>\n",
              "      <td>0.493972</td>\n",
              "      <td>0.782283</td>\n",
              "      <td>...</td>\n",
              "      <td>1.0</td>\n",
              "      <td>1.0</td>\n",
              "      <td>1.0</td>\n",
              "      <td>0.0</td>\n",
              "      <td>1.0</td>\n",
              "      <td>0.0</td>\n",
              "      <td>1.0</td>\n",
              "      <td>-1.0</td>\n",
              "      <td>-1.0</td>\n",
              "      <td>1.0</td>\n",
              "    </tr>\n",
              "    <tr>\n",
              "      <th>67</th>\n",
              "      <td>2020-07-15</td>\n",
              "      <td>1.000000</td>\n",
              "      <td>1.000000</td>\n",
              "      <td>1.000000</td>\n",
              "      <td>0.988242</td>\n",
              "      <td>0.153696</td>\n",
              "      <td>0.957160</td>\n",
              "      <td>0.972568</td>\n",
              "      <td>0.554120</td>\n",
              "      <td>0.808997</td>\n",
              "      <td>...</td>\n",
              "      <td>1.0</td>\n",
              "      <td>1.0</td>\n",
              "      <td>1.0</td>\n",
              "      <td>1.0</td>\n",
              "      <td>1.0</td>\n",
              "      <td>0.0</td>\n",
              "      <td>1.0</td>\n",
              "      <td>-1.0</td>\n",
              "      <td>-1.0</td>\n",
              "      <td>1.0</td>\n",
              "    </tr>\n",
              "    <tr>\n",
              "      <th>68</th>\n",
              "      <td>2020-07-16</td>\n",
              "      <td>0.967430</td>\n",
              "      <td>0.962536</td>\n",
              "      <td>0.995963</td>\n",
              "      <td>0.966077</td>\n",
              "      <td>0.001807</td>\n",
              "      <td>0.973886</td>\n",
              "      <td>0.990087</td>\n",
              "      <td>0.515164</td>\n",
              "      <td>0.837053</td>\n",
              "      <td>...</td>\n",
              "      <td>1.0</td>\n",
              "      <td>1.0</td>\n",
              "      <td>1.0</td>\n",
              "      <td>1.0</td>\n",
              "      <td>1.0</td>\n",
              "      <td>0.0</td>\n",
              "      <td>1.0</td>\n",
              "      <td>-1.0</td>\n",
              "      <td>-1.0</td>\n",
              "      <td>1.0</td>\n",
              "    </tr>\n",
              "  </tbody>\n",
              "</table>\n",
              "<p>69 rows × 63 columns</p>\n",
              "</div>\n",
              "      <button class=\"colab-df-convert\" onclick=\"convertToInteractive('df-739f227c-bdbf-47e4-9d18-59711e6b866b')\"\n",
              "              title=\"Convert this dataframe to an interactive table.\"\n",
              "              style=\"display:none;\">\n",
              "        \n",
              "  <svg xmlns=\"http://www.w3.org/2000/svg\" height=\"24px\"viewBox=\"0 0 24 24\"\n",
              "       width=\"24px\">\n",
              "    <path d=\"M0 0h24v24H0V0z\" fill=\"none\"/>\n",
              "    <path d=\"M18.56 5.44l.94 2.06.94-2.06 2.06-.94-2.06-.94-.94-2.06-.94 2.06-2.06.94zm-11 1L8.5 8.5l.94-2.06 2.06-.94-2.06-.94L8.5 2.5l-.94 2.06-2.06.94zm10 10l.94 2.06.94-2.06 2.06-.94-2.06-.94-.94-2.06-.94 2.06-2.06.94z\"/><path d=\"M17.41 7.96l-1.37-1.37c-.4-.4-.92-.59-1.43-.59-.52 0-1.04.2-1.43.59L10.3 9.45l-7.72 7.72c-.78.78-.78 2.05 0 2.83L4 21.41c.39.39.9.59 1.41.59.51 0 1.02-.2 1.41-.59l7.78-7.78 2.81-2.81c.8-.78.8-2.07 0-2.86zM5.41 20L4 18.59l7.72-7.72 1.47 1.35L5.41 20z\"/>\n",
              "  </svg>\n",
              "      </button>\n",
              "      \n",
              "  <style>\n",
              "    .colab-df-container {\n",
              "      display:flex;\n",
              "      flex-wrap:wrap;\n",
              "      gap: 12px;\n",
              "    }\n",
              "\n",
              "    .colab-df-convert {\n",
              "      background-color: #E8F0FE;\n",
              "      border: none;\n",
              "      border-radius: 50%;\n",
              "      cursor: pointer;\n",
              "      display: none;\n",
              "      fill: #1967D2;\n",
              "      height: 32px;\n",
              "      padding: 0 0 0 0;\n",
              "      width: 32px;\n",
              "    }\n",
              "\n",
              "    .colab-df-convert:hover {\n",
              "      background-color: #E2EBFA;\n",
              "      box-shadow: 0px 1px 2px rgba(60, 64, 67, 0.3), 0px 1px 3px 1px rgba(60, 64, 67, 0.15);\n",
              "      fill: #174EA6;\n",
              "    }\n",
              "\n",
              "    [theme=dark] .colab-df-convert {\n",
              "      background-color: #3B4455;\n",
              "      fill: #D2E3FC;\n",
              "    }\n",
              "\n",
              "    [theme=dark] .colab-df-convert:hover {\n",
              "      background-color: #434B5C;\n",
              "      box-shadow: 0px 1px 3px 1px rgba(0, 0, 0, 0.15);\n",
              "      filter: drop-shadow(0px 1px 2px rgba(0, 0, 0, 0.3));\n",
              "      fill: #FFFFFF;\n",
              "    }\n",
              "  </style>\n",
              "\n",
              "      <script>\n",
              "        const buttonEl =\n",
              "          document.querySelector('#df-739f227c-bdbf-47e4-9d18-59711e6b866b button.colab-df-convert');\n",
              "        buttonEl.style.display =\n",
              "          google.colab.kernel.accessAllowed ? 'block' : 'none';\n",
              "\n",
              "        async function convertToInteractive(key) {\n",
              "          const element = document.querySelector('#df-739f227c-bdbf-47e4-9d18-59711e6b866b');\n",
              "          const dataTable =\n",
              "            await google.colab.kernel.invokeFunction('convertToInteractive',\n",
              "                                                     [key], {});\n",
              "          if (!dataTable) return;\n",
              "\n",
              "          const docLinkHtml = 'Like what you see? Visit the ' +\n",
              "            '<a target=\"_blank\" href=https://colab.research.google.com/notebooks/data_table.ipynb>data table notebook</a>'\n",
              "            + ' to learn more about interactive tables.';\n",
              "          element.innerHTML = '';\n",
              "          dataTable['output_type'] = 'display_data';\n",
              "          await google.colab.output.renderOutput(dataTable, element);\n",
              "          const docLink = document.createElement('div');\n",
              "          docLink.innerHTML = docLinkHtml;\n",
              "          element.appendChild(docLink);\n",
              "        }\n",
              "      </script>\n",
              "    </div>\n",
              "  </div>\n",
              "  "
            ]
          },
          "metadata": {}
        }
      ],
      "source": [
        "#Uniendo todas las variables en una nueva dataframe\n",
        "dft=pd.concat([df['datetime'],dft1,dft2,dft3,dft4], axis=1)\n",
        "display(dft)\n"
      ]
    },
    {
      "cell_type": "markdown",
      "metadata": {
        "id": "jS5Q35GKj0L0"
      },
      "source": [
        "# **ANALISIS DE COMPONENTES PRINCIPALES**"
      ]
    },
    {
      "cell_type": "code",
      "execution_count": null,
      "metadata": {
        "colab": {
          "base_uri": "https://localhost:8080/",
          "height": 317
        },
        "id": "P_eXLQAfj6I6",
        "outputId": "45f7d2df-773a-40fd-b540-8e5600d07d0c"
      },
      "outputs": [
        {
          "output_type": "execute_result",
          "data": {
            "text/plain": [
              "      open0     high0      low0    close0   volume0       ma0      ema0  \\\n",
              "0 -2.157055 -1.822997 -2.114384 -1.720139  0.342571 -2.478917 -2.289300   \n",
              "1 -1.518548 -1.416004 -1.429162 -1.442170  2.271350 -2.035552 -1.944778   \n",
              "2 -1.480581 -1.670182 -1.714085 -1.638857 -0.212168 -1.741974 -1.795702   \n",
              "3 -1.323434 -1.181748 -1.133520 -1.049776  0.067165 -1.451065 -1.485456   \n",
              "4 -1.389098 -1.533486 -1.434835 -1.487242 -0.279760 -1.325724 -1.445295   \n",
              "\n",
              "       rsi0      sar0      adx0  ...  STOCH slow_kc  STOCH slow_dc    willrc  \\\n",
              "0  0.363746 -2.462271  0.500118  ...       0.983415       0.899438  0.983415   \n",
              "1  0.600496 -2.052577  0.859959  ...       0.983415       0.899438  0.983415   \n",
              "2  0.265916 -1.690317  0.844384  ...       0.983415       0.899438  0.983415   \n",
              "3  0.822386 -1.475615  1.076081  ...       0.983415       0.899438  0.983415   \n",
              "4  0.050472 -0.598769  0.934388  ...      -0.632195       0.899438 -0.632195   \n",
              "\n",
              "       ccic  percent_bc      mfic  BBANDS upper_bandc  BBANDS lower_bandc  \\\n",
              "0  1.130810    1.164226 -0.172774            0.172774           -0.121268   \n",
              "1  1.130810    1.164226  5.787918            0.172774           -0.121268   \n",
              "2 -0.642506    1.164226  5.787918            0.172774           -0.121268   \n",
              "3  1.130810    1.164226 -0.172774            0.172774           -0.121268   \n",
              "4 -0.642506   -0.620920 -0.172774            0.172774           -0.121268   \n",
              "\n",
              "   aroon_downc  aroon_upc  \n",
              "0    -0.638877   0.638877  \n",
              "1    -0.638877   0.638877  \n",
              "2    -0.638877   0.638877  \n",
              "3    -0.638877   0.638877  \n",
              "4    -0.638877   0.638877  \n",
              "\n",
              "[5 rows x 62 columns]"
            ],
            "text/html": [
              "\n",
              "  <div id=\"df-aef20e5a-ea5c-429b-a6f4-5d3254516ffb\">\n",
              "    <div class=\"colab-df-container\">\n",
              "      <div>\n",
              "<style scoped>\n",
              "    .dataframe tbody tr th:only-of-type {\n",
              "        vertical-align: middle;\n",
              "    }\n",
              "\n",
              "    .dataframe tbody tr th {\n",
              "        vertical-align: top;\n",
              "    }\n",
              "\n",
              "    .dataframe thead th {\n",
              "        text-align: right;\n",
              "    }\n",
              "</style>\n",
              "<table border=\"1\" class=\"dataframe\">\n",
              "  <thead>\n",
              "    <tr style=\"text-align: right;\">\n",
              "      <th></th>\n",
              "      <th>open0</th>\n",
              "      <th>high0</th>\n",
              "      <th>low0</th>\n",
              "      <th>close0</th>\n",
              "      <th>volume0</th>\n",
              "      <th>ma0</th>\n",
              "      <th>ema0</th>\n",
              "      <th>rsi0</th>\n",
              "      <th>sar0</th>\n",
              "      <th>adx0</th>\n",
              "      <th>...</th>\n",
              "      <th>STOCH slow_kc</th>\n",
              "      <th>STOCH slow_dc</th>\n",
              "      <th>willrc</th>\n",
              "      <th>ccic</th>\n",
              "      <th>percent_bc</th>\n",
              "      <th>mfic</th>\n",
              "      <th>BBANDS upper_bandc</th>\n",
              "      <th>BBANDS lower_bandc</th>\n",
              "      <th>aroon_downc</th>\n",
              "      <th>aroon_upc</th>\n",
              "    </tr>\n",
              "  </thead>\n",
              "  <tbody>\n",
              "    <tr>\n",
              "      <th>0</th>\n",
              "      <td>-2.157055</td>\n",
              "      <td>-1.822997</td>\n",
              "      <td>-2.114384</td>\n",
              "      <td>-1.720139</td>\n",
              "      <td>0.342571</td>\n",
              "      <td>-2.478917</td>\n",
              "      <td>-2.289300</td>\n",
              "      <td>0.363746</td>\n",
              "      <td>-2.462271</td>\n",
              "      <td>0.500118</td>\n",
              "      <td>...</td>\n",
              "      <td>0.983415</td>\n",
              "      <td>0.899438</td>\n",
              "      <td>0.983415</td>\n",
              "      <td>1.130810</td>\n",
              "      <td>1.164226</td>\n",
              "      <td>-0.172774</td>\n",
              "      <td>0.172774</td>\n",
              "      <td>-0.121268</td>\n",
              "      <td>-0.638877</td>\n",
              "      <td>0.638877</td>\n",
              "    </tr>\n",
              "    <tr>\n",
              "      <th>1</th>\n",
              "      <td>-1.518548</td>\n",
              "      <td>-1.416004</td>\n",
              "      <td>-1.429162</td>\n",
              "      <td>-1.442170</td>\n",
              "      <td>2.271350</td>\n",
              "      <td>-2.035552</td>\n",
              "      <td>-1.944778</td>\n",
              "      <td>0.600496</td>\n",
              "      <td>-2.052577</td>\n",
              "      <td>0.859959</td>\n",
              "      <td>...</td>\n",
              "      <td>0.983415</td>\n",
              "      <td>0.899438</td>\n",
              "      <td>0.983415</td>\n",
              "      <td>1.130810</td>\n",
              "      <td>1.164226</td>\n",
              "      <td>5.787918</td>\n",
              "      <td>0.172774</td>\n",
              "      <td>-0.121268</td>\n",
              "      <td>-0.638877</td>\n",
              "      <td>0.638877</td>\n",
              "    </tr>\n",
              "    <tr>\n",
              "      <th>2</th>\n",
              "      <td>-1.480581</td>\n",
              "      <td>-1.670182</td>\n",
              "      <td>-1.714085</td>\n",
              "      <td>-1.638857</td>\n",
              "      <td>-0.212168</td>\n",
              "      <td>-1.741974</td>\n",
              "      <td>-1.795702</td>\n",
              "      <td>0.265916</td>\n",
              "      <td>-1.690317</td>\n",
              "      <td>0.844384</td>\n",
              "      <td>...</td>\n",
              "      <td>0.983415</td>\n",
              "      <td>0.899438</td>\n",
              "      <td>0.983415</td>\n",
              "      <td>-0.642506</td>\n",
              "      <td>1.164226</td>\n",
              "      <td>5.787918</td>\n",
              "      <td>0.172774</td>\n",
              "      <td>-0.121268</td>\n",
              "      <td>-0.638877</td>\n",
              "      <td>0.638877</td>\n",
              "    </tr>\n",
              "    <tr>\n",
              "      <th>3</th>\n",
              "      <td>-1.323434</td>\n",
              "      <td>-1.181748</td>\n",
              "      <td>-1.133520</td>\n",
              "      <td>-1.049776</td>\n",
              "      <td>0.067165</td>\n",
              "      <td>-1.451065</td>\n",
              "      <td>-1.485456</td>\n",
              "      <td>0.822386</td>\n",
              "      <td>-1.475615</td>\n",
              "      <td>1.076081</td>\n",
              "      <td>...</td>\n",
              "      <td>0.983415</td>\n",
              "      <td>0.899438</td>\n",
              "      <td>0.983415</td>\n",
              "      <td>1.130810</td>\n",
              "      <td>1.164226</td>\n",
              "      <td>-0.172774</td>\n",
              "      <td>0.172774</td>\n",
              "      <td>-0.121268</td>\n",
              "      <td>-0.638877</td>\n",
              "      <td>0.638877</td>\n",
              "    </tr>\n",
              "    <tr>\n",
              "      <th>4</th>\n",
              "      <td>-1.389098</td>\n",
              "      <td>-1.533486</td>\n",
              "      <td>-1.434835</td>\n",
              "      <td>-1.487242</td>\n",
              "      <td>-0.279760</td>\n",
              "      <td>-1.325724</td>\n",
              "      <td>-1.445295</td>\n",
              "      <td>0.050472</td>\n",
              "      <td>-0.598769</td>\n",
              "      <td>0.934388</td>\n",
              "      <td>...</td>\n",
              "      <td>-0.632195</td>\n",
              "      <td>0.899438</td>\n",
              "      <td>-0.632195</td>\n",
              "      <td>-0.642506</td>\n",
              "      <td>-0.620920</td>\n",
              "      <td>-0.172774</td>\n",
              "      <td>0.172774</td>\n",
              "      <td>-0.121268</td>\n",
              "      <td>-0.638877</td>\n",
              "      <td>0.638877</td>\n",
              "    </tr>\n",
              "  </tbody>\n",
              "</table>\n",
              "<p>5 rows × 62 columns</p>\n",
              "</div>\n",
              "      <button class=\"colab-df-convert\" onclick=\"convertToInteractive('df-aef20e5a-ea5c-429b-a6f4-5d3254516ffb')\"\n",
              "              title=\"Convert this dataframe to an interactive table.\"\n",
              "              style=\"display:none;\">\n",
              "        \n",
              "  <svg xmlns=\"http://www.w3.org/2000/svg\" height=\"24px\"viewBox=\"0 0 24 24\"\n",
              "       width=\"24px\">\n",
              "    <path d=\"M0 0h24v24H0V0z\" fill=\"none\"/>\n",
              "    <path d=\"M18.56 5.44l.94 2.06.94-2.06 2.06-.94-2.06-.94-.94-2.06-.94 2.06-2.06.94zm-11 1L8.5 8.5l.94-2.06 2.06-.94-2.06-.94L8.5 2.5l-.94 2.06-2.06.94zm10 10l.94 2.06.94-2.06 2.06-.94-2.06-.94-.94-2.06-.94 2.06-2.06.94z\"/><path d=\"M17.41 7.96l-1.37-1.37c-.4-.4-.92-.59-1.43-.59-.52 0-1.04.2-1.43.59L10.3 9.45l-7.72 7.72c-.78.78-.78 2.05 0 2.83L4 21.41c.39.39.9.59 1.41.59.51 0 1.02-.2 1.41-.59l7.78-7.78 2.81-2.81c.8-.78.8-2.07 0-2.86zM5.41 20L4 18.59l7.72-7.72 1.47 1.35L5.41 20z\"/>\n",
              "  </svg>\n",
              "      </button>\n",
              "      \n",
              "  <style>\n",
              "    .colab-df-container {\n",
              "      display:flex;\n",
              "      flex-wrap:wrap;\n",
              "      gap: 12px;\n",
              "    }\n",
              "\n",
              "    .colab-df-convert {\n",
              "      background-color: #E8F0FE;\n",
              "      border: none;\n",
              "      border-radius: 50%;\n",
              "      cursor: pointer;\n",
              "      display: none;\n",
              "      fill: #1967D2;\n",
              "      height: 32px;\n",
              "      padding: 0 0 0 0;\n",
              "      width: 32px;\n",
              "    }\n",
              "\n",
              "    .colab-df-convert:hover {\n",
              "      background-color: #E2EBFA;\n",
              "      box-shadow: 0px 1px 2px rgba(60, 64, 67, 0.3), 0px 1px 3px 1px rgba(60, 64, 67, 0.15);\n",
              "      fill: #174EA6;\n",
              "    }\n",
              "\n",
              "    [theme=dark] .colab-df-convert {\n",
              "      background-color: #3B4455;\n",
              "      fill: #D2E3FC;\n",
              "    }\n",
              "\n",
              "    [theme=dark] .colab-df-convert:hover {\n",
              "      background-color: #434B5C;\n",
              "      box-shadow: 0px 1px 3px 1px rgba(0, 0, 0, 0.15);\n",
              "      filter: drop-shadow(0px 1px 2px rgba(0, 0, 0, 0.3));\n",
              "      fill: #FFFFFF;\n",
              "    }\n",
              "  </style>\n",
              "\n",
              "      <script>\n",
              "        const buttonEl =\n",
              "          document.querySelector('#df-aef20e5a-ea5c-429b-a6f4-5d3254516ffb button.colab-df-convert');\n",
              "        buttonEl.style.display =\n",
              "          google.colab.kernel.accessAllowed ? 'block' : 'none';\n",
              "\n",
              "        async function convertToInteractive(key) {\n",
              "          const element = document.querySelector('#df-aef20e5a-ea5c-429b-a6f4-5d3254516ffb');\n",
              "          const dataTable =\n",
              "            await google.colab.kernel.invokeFunction('convertToInteractive',\n",
              "                                                     [key], {});\n",
              "          if (!dataTable) return;\n",
              "\n",
              "          const docLinkHtml = 'Like what you see? Visit the ' +\n",
              "            '<a target=\"_blank\" href=https://colab.research.google.com/notebooks/data_table.ipynb>data table notebook</a>'\n",
              "            + ' to learn more about interactive tables.';\n",
              "          element.innerHTML = '';\n",
              "          dataTable['output_type'] = 'display_data';\n",
              "          await google.colab.output.renderOutput(dataTable, element);\n",
              "          const docLink = document.createElement('div');\n",
              "          docLink.innerHTML = docLinkHtml;\n",
              "          element.appendChild(docLink);\n",
              "        }\n",
              "      </script>\n",
              "    </div>\n",
              "  </div>\n",
              "  "
            ]
          },
          "metadata": {},
          "execution_count": 15
        }
      ],
      "source": [
        "#ACP trabaja bien con los datos estandarizados\n",
        "from sklearn.preprocessing import StandardScaler\n",
        "df_numeric=dft.drop(['datetime'],axis=1)\n",
        "df_norm=pd.DataFrame(StandardScaler().fit_transform(df_numeric))\n",
        "df_norm.columns=df_numeric.columns\n",
        "df_norm.head()"
      ]
    },
    {
      "cell_type": "code",
      "execution_count": null,
      "metadata": {
        "colab": {
          "base_uri": "https://localhost:8080/",
          "height": 296
        },
        "id": "R0RPp9u0pcY9",
        "outputId": "87b53afd-20a0-4748-a70e-c584a16168d9"
      },
      "outputs": [
        {
          "output_type": "execute_result",
          "data": {
            "text/plain": [
              "Text(0, 0.5, 'Var')"
            ]
          },
          "metadata": {},
          "execution_count": 16
        },
        {
          "output_type": "display_data",
          "data": {
            "text/plain": [
              "<Figure size 432x288 with 1 Axes>"
            ],
            "image/png": "[encoded data removed]"
          },
          "metadata": {
            "needs_background": "light"
          }
        }
      ],
      "source": [
        "from sklearn.decomposition import PCA\n",
        "pca=PCA(n_components=len(df_norm.columns))\n",
        "PC=pca.fit_transform(df_norm)\n",
        "PCdf=pd.DataFrame(data=PC)\n",
        "var_ex=pca.explained_variance_ratio_\n",
        "# trazar la ojiva\n",
        "plt.plot (np.cumsum(var_ex))\n",
        "plt.xlabel('Componentes Z')\n",
        "plt.ylabel('Var')"
      ]
    },
    {
      "cell_type": "code",
      "source": [
        "np.cumsum(var_ex)"
      ],
      "metadata": {
        "colab": {
          "base_uri": "https://localhost:8080/"
        },
        "id": "g_W11xwWuNaL",
        "outputId": "0e2931cd-d859-42cd-90f9-a74aec76806a"
      },
      "execution_count": null,
      "outputs": [
        {
          "output_type": "execute_result",
          "data": {
            "text/plain": [
              "array([0.25726378, 0.4614327 , 0.55944801, 0.62344976, 0.67356676,\n",
              "       0.71691668, 0.75124757, 0.78378112, 0.80789429, 0.83081058,\n",
              "       0.84902106, 0.86630345, 0.88235925, 0.8973361 , 0.9098829 ,\n",
              "       0.92172086, 0.93204188, 0.94141306, 0.94862254, 0.9552982 ,\n",
              "       0.9617075 , 0.96642975, 0.97097867, 0.97516228, 0.97866919,\n",
              "       0.98128829, 0.98382581, 0.9859877 , 0.9880165 , 0.98987562,\n",
              "       0.99158177, 0.99295939, 0.99413057, 0.99512567, 0.99594941,\n",
              "       0.9966641 , 0.99728639, 0.99778061, 0.99820478, 0.99852379,\n",
              "       0.99880308, 0.9990527 , 0.99925014, 0.99942181, 0.99956943,\n",
              "       0.99969229, 0.99979109, 0.99985235, 0.99990519, 0.99994492,\n",
              "       0.99997308, 0.99998454, 0.99999182, 0.99999654, 0.99999832,\n",
              "       0.99999991, 1.        , 1.        , 1.        , 1.        ,\n",
              "       1.        , 1.        ])"
            ]
          },
          "metadata": {},
          "execution_count": 51
        }
      ]
    },
    {
      "cell_type": "markdown",
      "metadata": {
        "id": "r8962RVRQOzu"
      },
      "source": [
        "# **DATA CON COMPONENTES PRINCIPALES**"
      ]
    },
    {
      "cell_type": "code",
      "execution_count": null,
      "metadata": {
        "id": "Ii6_W1x2Q3Qu",
        "colab": {
          "base_uri": "https://localhost:8080/"
        },
        "outputId": "ed909756-934e-4e4d-eaae-95afabf29770"
      },
      "outputs": [
        {
          "output_type": "execute_result",
          "data": {
            "text/plain": [
              "<bound method DataFrame.info of      datetime       close         0         1         2         3         4  \\\n",
              "0  2020-04-08  2749.97998 -7.870133  5.265003 -3.672866  2.852194  0.488105   \n",
              "1  2020-04-09  2789.82007 -7.235514  4.334977  0.453846 -0.006689  4.605437   \n",
              "2  2020-04-13  2761.62988 -6.607820  4.505328 -2.116910  3.018735  4.876413   \n",
              "3  2020-04-14  2846.06006 -6.431355  2.546325  1.851707 -0.986343  2.898688   \n",
              "4  2020-04-15  2783.36011 -3.722190  4.516380  1.517721  0.005958  0.970757   \n",
              "..        ...         ...       ...       ...       ...       ...       ...   \n",
              "64 2020-07-10  3185.04004 -1.292317 -4.915756 -1.957482 -0.774207 -0.531346   \n",
              "65 2020-07-13  3155.21997  0.819528 -4.682838  0.048203 -0.807332  3.575816   \n",
              "66 2020-07-14  3197.52002 -0.185112 -4.988210 -2.781588 -0.674432 -0.074705   \n",
              "67 2020-07-15  3226.56006 -1.270758 -5.614332 -0.884091 -1.650916 -0.123479   \n",
              "68 2020-07-16  3215.57007 -0.997007 -5.379189 -0.876307 -1.455143 -0.647879   \n",
              "\n",
              "           5         6         7  ...        20        21        22        23  \\\n",
              "0  -0.149088  3.720455 -3.197405  ...  0.588431  1.304598 -0.099074 -0.299675   \n",
              "1   4.823217  0.498356 -1.454947  ... -1.189796 -0.286815  0.301510 -0.090276   \n",
              "2  -0.528971 -0.266524  1.024356  ... -0.794449 -0.105678 -0.127636  0.359654   \n",
              "3   0.514615 -0.011919 -1.099400  ...  1.300115  0.318405 -0.035230 -0.632348   \n",
              "4  -0.908731 -0.147042  0.691975  ...  1.277307  0.131363  0.204163 -0.578342   \n",
              "..       ...       ...       ...  ...       ...       ...       ...       ...   \n",
              "64  0.660546 -1.672844 -0.464819  ... -0.037725 -1.085536 -0.509828 -0.224943   \n",
              "65 -0.537059 -2.759106  2.779235  ...  0.037687  0.190845  0.587855  0.185924   \n",
              "66 -0.420035 -2.704367  1.389907  ... -0.286662  0.641106 -0.708494  1.209814   \n",
              "67  0.333569 -0.662245  0.564063  ... -0.773779 -0.305346 -0.038479 -0.881327   \n",
              "68 -0.730481 -0.673295  0.062985  ... -1.079028 -0.444292  0.103386 -1.029761   \n",
              "\n",
              "          24        25        26        27        28        29  \n",
              "0   0.001646  0.158632 -0.754818 -0.028024  0.444418  0.194337  \n",
              "1  -0.131742 -0.422822  0.389154 -0.073672 -0.327051 -0.103694  \n",
              "2   0.140623  0.387960  0.022204 -0.036286 -0.074140  0.103175  \n",
              "3  -0.808578 -0.207439  0.125669  0.420124  0.321014 -0.037586  \n",
              "4  -0.050708 -0.241084  0.146356 -0.012279 -0.052197 -0.018964  \n",
              "..       ...       ...       ...       ...       ...       ...  \n",
              "64 -0.152760  0.473521 -0.265906 -0.189422 -0.150394 -0.100926  \n",
              "65 -0.422377  0.710673 -0.196277 -0.490809  0.311503 -0.009765  \n",
              "66  0.576038  0.011826 -0.709508  0.142678 -0.105697 -0.220841  \n",
              "67 -0.310191  0.138540 -0.268850 -0.353788  0.406551 -0.294823  \n",
              "68 -0.295029  0.066378  0.025903 -0.419161  0.100206 -0.084407  \n",
              "\n",
              "[69 rows x 32 columns]>"
            ]
          },
          "metadata": {},
          "execution_count": 17
        }
      ],
      "source": [
        "#Vamos a escoger los primeros 30 componentes principales ya que con ellos se \n",
        "#obtiene una varianza superior al 98% y lo juntamos con las fechas y el precio de cierre\n",
        "dff1=pd.DataFrame(df[['datetime','close']],)\n",
        "dff2=PCdf.iloc[:,0:30]\n",
        "#dff2=df_norm.iloc[:,3:4]\n",
        "df_PCA=pd.concat([dff1,dff2], axis=1)\n",
        "df_PCA.info\n"
      ]
    },
    {
      "cell_type": "code",
      "execution_count": null,
      "metadata": {
        "id": "jO1Wh4ODz8ti"
      },
      "outputs": [],
      "source": [
        "#Establecemos la fecha como indice\n",
        "df_PCA = df_PCA.set_index(\"datetime\")"
      ]
    },
    {
      "cell_type": "code",
      "execution_count": null,
      "metadata": {
        "colab": {
          "base_uri": "https://localhost:8080/",
          "height": 693
        },
        "id": "DfsNatuHcecA",
        "outputId": "e646803c-264e-4413-d056-fb26ee5a6c88"
      },
      "outputs": [
        {
          "output_type": "execute_result",
          "data": {
            "text/plain": [
              "               close         0         1         2         3         4  \\\n",
              "datetime                                                                 \n",
              "2020-04-08 -1.720139 -7.870133  5.265003 -3.672866  2.852194  0.488105   \n",
              "2020-04-09 -1.442170 -7.235514  4.334977  0.453846 -0.006689  4.605437   \n",
              "2020-04-13 -1.638857 -6.607820  4.505328 -2.116910  3.018735  4.876413   \n",
              "2020-04-14 -1.049776 -6.431355  2.546325  1.851707 -0.986343  2.898688   \n",
              "2020-04-15 -1.487242 -3.722190  4.516380  1.517721  0.005958  0.970757   \n",
              "...              ...       ...       ...       ...       ...       ...   \n",
              "2020-07-10  1.315330 -1.292317 -4.915756 -1.957482 -0.774207 -0.531346   \n",
              "2020-07-13  1.107272  0.819528 -4.682838  0.048203 -0.807332  3.575816   \n",
              "2020-07-14  1.402405 -0.185112 -4.988210 -2.781588 -0.674432 -0.074705   \n",
              "2020-07-15  1.605021 -1.270758 -5.614332 -0.884091 -1.650916 -0.123479   \n",
              "2020-07-16  1.528342 -0.997007 -5.379189 -0.876307 -1.455143 -0.647879   \n",
              "\n",
              "                   5         6         7         8  ...        20        21  \\\n",
              "datetime                                            ...                       \n",
              "2020-04-08 -0.149088  3.720455 -3.197405 -3.163318  ...  0.588431  1.304598   \n",
              "2020-04-09  4.823217  0.498356 -1.454947 -0.488119  ... -1.189796 -0.286815   \n",
              "2020-04-13 -0.528971 -0.266524  1.024356 -0.476549  ... -0.794449 -0.105678   \n",
              "2020-04-14  0.514615 -0.011919 -1.099400 -0.070565  ...  1.300115  0.318405   \n",
              "2020-04-15 -0.908731 -0.147042  0.691975 -0.219853  ...  1.277307  0.131363   \n",
              "...              ...       ...       ...       ...  ...       ...       ...   \n",
              "2020-07-10  0.660546 -1.672844 -0.464819 -1.035993  ... -0.037725 -1.085536   \n",
              "2020-07-13 -0.537059 -2.759106  2.779235 -0.378345  ...  0.037687  0.190845   \n",
              "2020-07-14 -0.420035 -2.704367  1.389907 -0.014547  ... -0.286662  0.641106   \n",
              "2020-07-15  0.333569 -0.662245  0.564063 -0.324554  ... -0.773779 -0.305346   \n",
              "2020-07-16 -0.730481 -0.673295  0.062985 -0.722167  ... -1.079028 -0.444292   \n",
              "\n",
              "                  22        23        24        25        26        27  \\\n",
              "datetime                                                                 \n",
              "2020-04-08 -0.099074 -0.299675  0.001646  0.158632 -0.754818 -0.028024   \n",
              "2020-04-09  0.301510 -0.090276 -0.131742 -0.422822  0.389154 -0.073672   \n",
              "2020-04-13 -0.127636  0.359654  0.140623  0.387960  0.022204 -0.036286   \n",
              "2020-04-14 -0.035230 -0.632348 -0.808578 -0.207439  0.125669  0.420124   \n",
              "2020-04-15  0.204163 -0.578342 -0.050708 -0.241084  0.146356 -0.012279   \n",
              "...              ...       ...       ...       ...       ...       ...   \n",
              "2020-07-10 -0.509828 -0.224943 -0.152760  0.473521 -0.265906 -0.189422   \n",
              "2020-07-13  0.587855  0.185924 -0.422377  0.710673 -0.196277 -0.490809   \n",
              "2020-07-14 -0.708494  1.209814  0.576038  0.011826 -0.709508  0.142678   \n",
              "2020-07-15 -0.038479 -0.881327 -0.310191  0.138540 -0.268850 -0.353788   \n",
              "2020-07-16  0.103386 -1.029761 -0.295029  0.066378  0.025903 -0.419161   \n",
              "\n",
              "                  28        29  \n",
              "datetime                        \n",
              "2020-04-08  0.444418  0.194337  \n",
              "2020-04-09 -0.327051 -0.103694  \n",
              "2020-04-13 -0.074140  0.103175  \n",
              "2020-04-14  0.321014 -0.037586  \n",
              "2020-04-15 -0.052197 -0.018964  \n",
              "...              ...       ...  \n",
              "2020-07-10 -0.150394 -0.100926  \n",
              "2020-07-13  0.311503 -0.009765  \n",
              "2020-07-14 -0.105697 -0.220841  \n",
              "2020-07-15  0.406551 -0.294823  \n",
              "2020-07-16  0.100206 -0.084407  \n",
              "\n",
              "[69 rows x 31 columns]"
            ],
            "text/html": [
              "\n",
              "  <div id=\"df-88946a1b-b368-40b6-bb19-8ac1c8d861b6\">\n",
              "    <div class=\"colab-df-container\">\n",
              "      <div>\n",
              "<style scoped>\n",
              "    .dataframe tbody tr th:only-of-type {\n",
              "        vertical-align: middle;\n",
              "    }\n",
              "\n",
              "    .dataframe tbody tr th {\n",
              "        vertical-align: top;\n",
              "    }\n",
              "\n",
              "    .dataframe thead th {\n",
              "        text-align: right;\n",
              "    }\n",
              "</style>\n",
              "<table border=\"1\" class=\"dataframe\">\n",
              "  <thead>\n",
              "    <tr style=\"text-align: right;\">\n",
              "      <th></th>\n",
              "      <th>close</th>\n",
              "      <th>0</th>\n",
              "      <th>1</th>\n",
              "      <th>2</th>\n",
              "      <th>3</th>\n",
              "      <th>4</th>\n",
              "      <th>5</th>\n",
              "      <th>6</th>\n",
              "      <th>7</th>\n",
              "      <th>8</th>\n",
              "      <th>...</th>\n",
              "      <th>20</th>\n",
              "      <th>21</th>\n",
              "      <th>22</th>\n",
              "      <th>23</th>\n",
              "      <th>24</th>\n",
              "      <th>25</th>\n",
              "      <th>26</th>\n",
              "      <th>27</th>\n",
              "      <th>28</th>\n",
              "      <th>29</th>\n",
              "    </tr>\n",
              "    <tr>\n",
              "      <th>datetime</th>\n",
              "      <th></th>\n",
              "      <th></th>\n",
              "      <th></th>\n",
              "      <th></th>\n",
              "      <th></th>\n",
              "      <th></th>\n",
              "      <th></th>\n",
              "      <th></th>\n",
              "      <th></th>\n",
              "      <th></th>\n",
              "      <th></th>\n",
              "      <th></th>\n",
              "      <th></th>\n",
              "      <th></th>\n",
              "      <th></th>\n",
              "      <th></th>\n",
              "      <th></th>\n",
              "      <th></th>\n",
              "      <th></th>\n",
              "      <th></th>\n",
              "      <th></th>\n",
              "    </tr>\n",
              "  </thead>\n",
              "  <tbody>\n",
              "    <tr>\n",
              "      <th>2020-04-08</th>\n",
              "      <td>-1.720139</td>\n",
              "      <td>-7.870133</td>\n",
              "      <td>5.265003</td>\n",
              "      <td>-3.672866</td>\n",
              "      <td>2.852194</td>\n",
              "      <td>0.488105</td>\n",
              "      <td>-0.149088</td>\n",
              "      <td>3.720455</td>\n",
              "      <td>-3.197405</td>\n",
              "      <td>-3.163318</td>\n",
              "      <td>...</td>\n",
              "      <td>0.588431</td>\n",
              "      <td>1.304598</td>\n",
              "      <td>-0.099074</td>\n",
              "      <td>-0.299675</td>\n",
              "      <td>0.001646</td>\n",
              "      <td>0.158632</td>\n",
              "      <td>-0.754818</td>\n",
              "      <td>-0.028024</td>\n",
              "      <td>0.444418</td>\n",
              "      <td>0.194337</td>\n",
              "    </tr>\n",
              "    <tr>\n",
              "      <th>2020-04-09</th>\n",
              "      <td>-1.442170</td>\n",
              "      <td>-7.235514</td>\n",
              "      <td>4.334977</td>\n",
              "      <td>0.453846</td>\n",
              "      <td>-0.006689</td>\n",
              "      <td>4.605437</td>\n",
              "      <td>4.823217</td>\n",
              "      <td>0.498356</td>\n",
              "      <td>-1.454947</td>\n",
              "      <td>-0.488119</td>\n",
              "      <td>...</td>\n",
              "      <td>-1.189796</td>\n",
              "      <td>-0.286815</td>\n",
              "      <td>0.301510</td>\n",
              "      <td>-0.090276</td>\n",
              "      <td>-0.131742</td>\n",
              "      <td>-0.422822</td>\n",
              "      <td>0.389154</td>\n",
              "      <td>-0.073672</td>\n",
              "      <td>-0.327051</td>\n",
              "      <td>-0.103694</td>\n",
              "    </tr>\n",
              "    <tr>\n",
              "      <th>2020-04-13</th>\n",
              "      <td>-1.638857</td>\n",
              "      <td>-6.607820</td>\n",
              "      <td>4.505328</td>\n",
              "      <td>-2.116910</td>\n",
              "      <td>3.018735</td>\n",
              "      <td>4.876413</td>\n",
              "      <td>-0.528971</td>\n",
              "      <td>-0.266524</td>\n",
              "      <td>1.024356</td>\n",
              "      <td>-0.476549</td>\n",
              "      <td>...</td>\n",
              "      <td>-0.794449</td>\n",
              "      <td>-0.105678</td>\n",
              "      <td>-0.127636</td>\n",
              "      <td>0.359654</td>\n",
              "      <td>0.140623</td>\n",
              "      <td>0.387960</td>\n",
              "      <td>0.022204</td>\n",
              "      <td>-0.036286</td>\n",
              "      <td>-0.074140</td>\n",
              "      <td>0.103175</td>\n",
              "    </tr>\n",
              "    <tr>\n",
              "      <th>2020-04-14</th>\n",
              "      <td>-1.049776</td>\n",
              "      <td>-6.431355</td>\n",
              "      <td>2.546325</td>\n",
              "      <td>1.851707</td>\n",
              "      <td>-0.986343</td>\n",
              "      <td>2.898688</td>\n",
              "      <td>0.514615</td>\n",
              "      <td>-0.011919</td>\n",
              "      <td>-1.099400</td>\n",
              "      <td>-0.070565</td>\n",
              "      <td>...</td>\n",
              "      <td>1.300115</td>\n",
              "      <td>0.318405</td>\n",
              "      <td>-0.035230</td>\n",
              "      <td>-0.632348</td>\n",
              "      <td>-0.808578</td>\n",
              "      <td>-0.207439</td>\n",
              "      <td>0.125669</td>\n",
              "      <td>0.420124</td>\n",
              "      <td>0.321014</td>\n",
              "      <td>-0.037586</td>\n",
              "    </tr>\n",
              "    <tr>\n",
              "      <th>2020-04-15</th>\n",
              "      <td>-1.487242</td>\n",
              "      <td>-3.722190</td>\n",
              "      <td>4.516380</td>\n",
              "      <td>1.517721</td>\n",
              "      <td>0.005958</td>\n",
              "      <td>0.970757</td>\n",
              "      <td>-0.908731</td>\n",
              "      <td>-0.147042</td>\n",
              "      <td>0.691975</td>\n",
              "      <td>-0.219853</td>\n",
              "      <td>...</td>\n",
              "      <td>1.277307</td>\n",
              "      <td>0.131363</td>\n",
              "      <td>0.204163</td>\n",
              "      <td>-0.578342</td>\n",
              "      <td>-0.050708</td>\n",
              "      <td>-0.241084</td>\n",
              "      <td>0.146356</td>\n",
              "      <td>-0.012279</td>\n",
              "      <td>-0.052197</td>\n",
              "      <td>-0.018964</td>\n",
              "    </tr>\n",
              "    <tr>\n",
              "      <th>...</th>\n",
              "      <td>...</td>\n",
              "      <td>...</td>\n",
              "      <td>...</td>\n",
              "      <td>...</td>\n",
              "      <td>...</td>\n",
              "      <td>...</td>\n",
              "      <td>...</td>\n",
              "      <td>...</td>\n",
              "      <td>...</td>\n",
              "      <td>...</td>\n",
              "      <td>...</td>\n",
              "      <td>...</td>\n",
              "      <td>...</td>\n",
              "      <td>...</td>\n",
              "      <td>...</td>\n",
              "      <td>...</td>\n",
              "      <td>...</td>\n",
              "      <td>...</td>\n",
              "      <td>...</td>\n",
              "      <td>...</td>\n",
              "      <td>...</td>\n",
              "    </tr>\n",
              "    <tr>\n",
              "      <th>2020-07-10</th>\n",
              "      <td>1.315330</td>\n",
              "      <td>-1.292317</td>\n",
              "      <td>-4.915756</td>\n",
              "      <td>-1.957482</td>\n",
              "      <td>-0.774207</td>\n",
              "      <td>-0.531346</td>\n",
              "      <td>0.660546</td>\n",
              "      <td>-1.672844</td>\n",
              "      <td>-0.464819</td>\n",
              "      <td>-1.035993</td>\n",
              "      <td>...</td>\n",
              "      <td>-0.037725</td>\n",
              "      <td>-1.085536</td>\n",
              "      <td>-0.509828</td>\n",
              "      <td>-0.224943</td>\n",
              "      <td>-0.152760</td>\n",
              "      <td>0.473521</td>\n",
              "      <td>-0.265906</td>\n",
              "      <td>-0.189422</td>\n",
              "      <td>-0.150394</td>\n",
              "      <td>-0.100926</td>\n",
              "    </tr>\n",
              "    <tr>\n",
              "      <th>2020-07-13</th>\n",
              "      <td>1.107272</td>\n",
              "      <td>0.819528</td>\n",
              "      <td>-4.682838</td>\n",
              "      <td>0.048203</td>\n",
              "      <td>-0.807332</td>\n",
              "      <td>3.575816</td>\n",
              "      <td>-0.537059</td>\n",
              "      <td>-2.759106</td>\n",
              "      <td>2.779235</td>\n",
              "      <td>-0.378345</td>\n",
              "      <td>...</td>\n",
              "      <td>0.037687</td>\n",
              "      <td>0.190845</td>\n",
              "      <td>0.587855</td>\n",
              "      <td>0.185924</td>\n",
              "      <td>-0.422377</td>\n",
              "      <td>0.710673</td>\n",
              "      <td>-0.196277</td>\n",
              "      <td>-0.490809</td>\n",
              "      <td>0.311503</td>\n",
              "      <td>-0.009765</td>\n",
              "    </tr>\n",
              "    <tr>\n",
              "      <th>2020-07-14</th>\n",
              "      <td>1.402405</td>\n",
              "      <td>-0.185112</td>\n",
              "      <td>-4.988210</td>\n",
              "      <td>-2.781588</td>\n",
              "      <td>-0.674432</td>\n",
              "      <td>-0.074705</td>\n",
              "      <td>-0.420035</td>\n",
              "      <td>-2.704367</td>\n",
              "      <td>1.389907</td>\n",
              "      <td>-0.014547</td>\n",
              "      <td>...</td>\n",
              "      <td>-0.286662</td>\n",
              "      <td>0.641106</td>\n",
              "      <td>-0.708494</td>\n",
              "      <td>1.209814</td>\n",
              "      <td>0.576038</td>\n",
              "      <td>0.011826</td>\n",
              "      <td>-0.709508</td>\n",
              "      <td>0.142678</td>\n",
              "      <td>-0.105697</td>\n",
              "      <td>-0.220841</td>\n",
              "    </tr>\n",
              "    <tr>\n",
              "      <th>2020-07-15</th>\n",
              "      <td>1.605021</td>\n",
              "      <td>-1.270758</td>\n",
              "      <td>-5.614332</td>\n",
              "      <td>-0.884091</td>\n",
              "      <td>-1.650916</td>\n",
              "      <td>-0.123479</td>\n",
              "      <td>0.333569</td>\n",
              "      <td>-0.662245</td>\n",
              "      <td>0.564063</td>\n",
              "      <td>-0.324554</td>\n",
              "      <td>...</td>\n",
              "      <td>-0.773779</td>\n",
              "      <td>-0.305346</td>\n",
              "      <td>-0.038479</td>\n",
              "      <td>-0.881327</td>\n",
              "      <td>-0.310191</td>\n",
              "      <td>0.138540</td>\n",
              "      <td>-0.268850</td>\n",
              "      <td>-0.353788</td>\n",
              "      <td>0.406551</td>\n",
              "      <td>-0.294823</td>\n",
              "    </tr>\n",
              "    <tr>\n",
              "      <th>2020-07-16</th>\n",
              "      <td>1.528342</td>\n",
              "      <td>-0.997007</td>\n",
              "      <td>-5.379189</td>\n",
              "      <td>-0.876307</td>\n",
              "      <td>-1.455143</td>\n",
              "      <td>-0.647879</td>\n",
              "      <td>-0.730481</td>\n",
              "      <td>-0.673295</td>\n",
              "      <td>0.062985</td>\n",
              "      <td>-0.722167</td>\n",
              "      <td>...</td>\n",
              "      <td>-1.079028</td>\n",
              "      <td>-0.444292</td>\n",
              "      <td>0.103386</td>\n",
              "      <td>-1.029761</td>\n",
              "      <td>-0.295029</td>\n",
              "      <td>0.066378</td>\n",
              "      <td>0.025903</td>\n",
              "      <td>-0.419161</td>\n",
              "      <td>0.100206</td>\n",
              "      <td>-0.084407</td>\n",
              "    </tr>\n",
              "  </tbody>\n",
              "</table>\n",
              "<p>69 rows × 31 columns</p>\n",
              "</div>\n",
              "      <button class=\"colab-df-convert\" onclick=\"convertToInteractive('df-88946a1b-b368-40b6-bb19-8ac1c8d861b6')\"\n",
              "              title=\"Convert this dataframe to an interactive table.\"\n",
              "              style=\"display:none;\">\n",
              "        \n",
              "  <svg xmlns=\"http://www.w3.org/2000/svg\" height=\"24px\"viewBox=\"0 0 24 24\"\n",
              "       width=\"24px\">\n",
              "    <path d=\"M0 0h24v24H0V0z\" fill=\"none\"/>\n",
              "    <path d=\"M18.56 5.44l.94 2.06.94-2.06 2.06-.94-2.06-.94-.94-2.06-.94 2.06-2.06.94zm-11 1L8.5 8.5l.94-2.06 2.06-.94-2.06-.94L8.5 2.5l-.94 2.06-2.06.94zm10 10l.94 2.06.94-2.06 2.06-.94-2.06-.94-.94-2.06-.94 2.06-2.06.94z\"/><path d=\"M17.41 7.96l-1.37-1.37c-.4-.4-.92-.59-1.43-.59-.52 0-1.04.2-1.43.59L10.3 9.45l-7.72 7.72c-.78.78-.78 2.05 0 2.83L4 21.41c.39.39.9.59 1.41.59.51 0 1.02-.2 1.41-.59l7.78-7.78 2.81-2.81c.8-.78.8-2.07 0-2.86zM5.41 20L4 18.59l7.72-7.72 1.47 1.35L5.41 20z\"/>\n",
              "  </svg>\n",
              "      </button>\n",
              "      \n",
              "  <style>\n",
              "    .colab-df-container {\n",
              "      display:flex;\n",
              "      flex-wrap:wrap;\n",
              "      gap: 12px;\n",
              "    }\n",
              "\n",
              "    .colab-df-convert {\n",
              "      background-color: #E8F0FE;\n",
              "      border: none;\n",
              "      border-radius: 50%;\n",
              "      cursor: pointer;\n",
              "      display: none;\n",
              "      fill: #1967D2;\n",
              "      height: 32px;\n",
              "      padding: 0 0 0 0;\n",
              "      width: 32px;\n",
              "    }\n",
              "\n",
              "    .colab-df-convert:hover {\n",
              "      background-color: #E2EBFA;\n",
              "      box-shadow: 0px 1px 2px rgba(60, 64, 67, 0.3), 0px 1px 3px 1px rgba(60, 64, 67, 0.15);\n",
              "      fill: #174EA6;\n",
              "    }\n",
              "\n",
              "    [theme=dark] .colab-df-convert {\n",
              "      background-color: #3B4455;\n",
              "      fill: #D2E3FC;\n",
              "    }\n",
              "\n",
              "    [theme=dark] .colab-df-convert:hover {\n",
              "      background-color: #434B5C;\n",
              "      box-shadow: 0px 1px 3px 1px rgba(0, 0, 0, 0.15);\n",
              "      filter: drop-shadow(0px 1px 2px rgba(0, 0, 0, 0.3));\n",
              "      fill: #FFFFFF;\n",
              "    }\n",
              "  </style>\n",
              "\n",
              "      <script>\n",
              "        const buttonEl =\n",
              "          document.querySelector('#df-88946a1b-b368-40b6-bb19-8ac1c8d861b6 button.colab-df-convert');\n",
              "        buttonEl.style.display =\n",
              "          google.colab.kernel.accessAllowed ? 'block' : 'none';\n",
              "\n",
              "        async function convertToInteractive(key) {\n",
              "          const element = document.querySelector('#df-88946a1b-b368-40b6-bb19-8ac1c8d861b6');\n",
              "          const dataTable =\n",
              "            await google.colab.kernel.invokeFunction('convertToInteractive',\n",
              "                                                     [key], {});\n",
              "          if (!dataTable) return;\n",
              "\n",
              "          const docLinkHtml = 'Like what you see? Visit the ' +\n",
              "            '<a target=\"_blank\" href=https://colab.research.google.com/notebooks/data_table.ipynb>data table notebook</a>'\n",
              "            + ' to learn more about interactive tables.';\n",
              "          element.innerHTML = '';\n",
              "          dataTable['output_type'] = 'display_data';\n",
              "          await google.colab.output.renderOutput(dataTable, element);\n",
              "          const docLink = document.createElement('div');\n",
              "          docLink.innerHTML = docLinkHtml;\n",
              "          element.appendChild(docLink);\n",
              "        }\n",
              "      </script>\n",
              "    </div>\n",
              "  </div>\n",
              "  "
            ]
          },
          "metadata": {},
          "execution_count": 19
        }
      ],
      "source": [
        "# Sin preprocesar el precio queda así loss: 8872100.0000 - root_mean_squared_error: 2978.6072 - mean_absolute_error: 2975.9324 - mean_absolute_percentage_error: 99.9801\n",
        "#Voy a probar estandarizando el precio de cierre\n",
        "\n",
        "scaler = StandardScaler()\n",
        "\n",
        "df_precio=df_PCA[['close']]\n",
        "scaler.fit(df_precio)\n",
        "scaled_precio = scaler.transform(df_precio)\n",
        "\n",
        "dfst_precio=pd.DataFrame(scaled_precio)\n",
        "dfst_precio.columns=['close']\n",
        "\n",
        "dff1=df_PCA.drop(['close'],axis=1)\n",
        "\n",
        "dff1=dff1.reset_index()\n",
        "dff=pd.concat([dfst_precio,dff1],axis=1)\n",
        "dff=dff.set_index('datetime')\n",
        "dff\n"
      ]
    },
    {
      "cell_type": "markdown",
      "metadata": {
        "id": "9pFujik9HmSq"
      },
      "source": [
        "# **CONJUNTOS DE DATOS DE ENTRENAMIENTO Y PRUEBA**"
      ]
    },
    {
      "cell_type": "code",
      "execution_count": null,
      "metadata": {
        "id": "G4mTcd8WsP93"
      },
      "outputs": [],
      "source": [
        "#Parámetros importantes\n",
        "n_days_before=5\n",
        "n_days_future = 1\n",
        "target_serie = \"close\""
      ]
    },
    {
      "cell_type": "code",
      "execution_count": null,
      "metadata": {
        "id": "NnP_j98gN5y_"
      },
      "outputs": [],
      "source": [
        "#Función para dividir el conjunto de datos en datos de entrenamiento, validación \n",
        "# y prueba\n",
        "def split_data(data, test_ratio):\n",
        "    n = len(data)\n",
        "    X = pd.DataFrame(data)\n",
        "    train_ratio = 1 - test_ratio\n",
        "    data_train = X.iloc[0 : int(n * train_ratio)]\n",
        "    data_test = X.iloc[int(n * train_ratio)-n_days_before-1 :]\n",
        "\n",
        "    return data_train, data_test"
      ]
    },
    {
      "cell_type": "code",
      "execution_count": null,
      "metadata": {
        "id": "J7qgWrEKiHzt"
      },
      "outputs": [],
      "source": [
        "#Como vamos a trabajar con series temporales, escogeremos el 90% de datos para \n",
        "#el entrenamiento y los últimos 10% para el test.\n",
        "\n",
        "test_ratio=0.1\n",
        "data_train, data_test= split_data(dff, test_ratio)"
      ]
    },
    {
      "cell_type": "markdown",
      "metadata": {
        "id": "Ayxc09gciHzt"
      },
      "source": [
        "# **TRANSFORMACIÓN DE LOS DATOS PARA PREDICCION DE SERIES TEMPORALES**"
      ]
    },
    {
      "cell_type": "code",
      "execution_count": null,
      "metadata": {
        "id": "SpYrtde2Qx52"
      },
      "outputs": [],
      "source": [
        "# Funcion que convierte la serie en una tabla con los n_days_before y n_days_future seleccionados.\n",
        "def series_to_supervised(\n",
        "    df: pd.DataFrame,\n",
        "    target_serie: str,\n",
        "    n_days_before: int,\n",
        "    n_days_future: int,\n",
        "    dropnan=True,\n",
        "):\n",
        "    features = df.columns\n",
        "    cols, names = list(), list()\n",
        "    y_cols = []\n",
        "\n",
        "    # input sequence (t-n, ... t-1)\n",
        "    for i in range(n_days_before, 0, -1):\n",
        "        cols.append(df.shift(i))\n",
        "        names += [(\"%s (t-%d)\" % (feature, i)) for j, feature in enumerate(features)]\n",
        "\n",
        "    # forecast sequence (t, t+1, ... t+n)\n",
        "    for i in range(0, n_days_future):\n",
        "        cols.append(df[target_serie].shift(-i))\n",
        "        if i == 0:\n",
        "            y_cols += [\"%s (t)\" % y_tmp for y_tmp in [target_serie]]\n",
        "        else:\n",
        "            y_cols += [\"%s (t+%d)\" % (y_tmp, i) for y_tmp in [target_serie]]\n",
        "    names += y_cols\n",
        "\n",
        "    # put it all together\n",
        "    supervised_data = pd.concat(cols, axis=1)\n",
        "    supervised_data.columns = names\n",
        "\n",
        "    # drop rows with NaN values\n",
        "    if dropnan:\n",
        "        supervised_data.dropna(inplace=True)\n",
        "    return supervised_data"
      ]
    },
    {
      "cell_type": "code",
      "execution_count": null,
      "metadata": {
        "id": "CUG2ryp0mVPK"
      },
      "outputs": [],
      "source": [
        "# Funcion que convierte el DataFrame en una tabla con los n_days_before y n_days_future seleccionados.\n",
        "def model_data_to_time_series(\n",
        "    df: pd.DataFrame,\n",
        "    target_serie: str,\n",
        "    n_days_before: int,\n",
        "    n_days_future: int,\n",
        "):\n",
        "    \n",
        "    n_features = df.shape[1]\n",
        "\n",
        "    supervised_data = series_to_supervised(df,target_serie,n_days_before,n_days_future)\n",
        "\n",
        "    X_data = supervised_data.iloc[:, :-n_days_future]\n",
        "    X_cols = X_data.columns.to_series()\n",
        "    last_target_col = X_cols[\n",
        "        X_cols.apply(lambda x: x.split(\" \")[0] == target_serie)\n",
        "    ].tolist()[-1]\n",
        "\n",
        "    y_data = supervised_data.iloc[:, -n_days_future:]\n",
        "\n",
        "    X = []\n",
        "    for ind in range(n_features-1):\n",
        "        tmp_X_serie = X_data.iloc[:, ind+1::n_features]\n",
        "        X.append(tmp_X_serie.values)\n",
        "\n",
        "    X = np.dstack(X)\n",
        "    Y = y_data\n",
        "    return X, Y"
      ]
    },
    {
      "cell_type": "code",
      "execution_count": null,
      "metadata": {
        "id": "ydymuUP_q6Ol"
      },
      "outputs": [],
      "source": [
        "#Transformación de los datos de entrenamiento, validación y prueba para el modelo\n",
        "X_train, Y_train=model_data_to_time_series(data_train, target_serie,n_days_before,n_days_future)\n",
        "X_test, Y_test=model_data_to_time_series(data_test, target_serie,n_days_before,n_days_future)"
      ]
    },
    {
      "cell_type": "markdown",
      "metadata": {
        "id": "xMrbZfk_eS-9"
      },
      "source": [
        "# **ENTRENAMIENTO DE LA RED**"
      ]
    },
    {
      "cell_type": "code",
      "execution_count": null,
      "metadata": {
        "id": "xAKtHzGjMhTe"
      },
      "outputs": [],
      "source": [
        "#Implementación del modelo en Keras\n",
        "import tensorflow as tf\n",
        "from keras.models import Sequential\n",
        "from keras.layers import LSTM, Dense, Dropout"
      ]
    },
    {
      "cell_type": "code",
      "execution_count": null,
      "metadata": {
        "id": "fLtnjAqQ90gw"
      },
      "outputs": [],
      "source": [
        "#Añadimos Early Stopping para evitar el sobreajuste y guardamos el mejor el modelo\n",
        "from keras.callbacks import ModelCheckpoint\n",
        "callback = tf.keras.callbacks.EarlyStopping(monitor='loss', patience=3)\n",
        "mc = ModelCheckpoint('best_model_lstm.h5', monitor='loss', mode='min', \n",
        "                     verbose=1, save_best_only=True)"
      ]
    },
    {
      "cell_type": "code",
      "execution_count": null,
      "metadata": {
        "id": "pUEsWaJqK4-y"
      },
      "outputs": [],
      "source": [
        "def define_model(n_steps_before, n_series):\n",
        "    model = Sequential()\n",
        "    model.add(LSTM(128, input_shape=(n_steps_before, n_series), \n",
        "                   return_sequences=True))\n",
        "    model.add(Dropout(rate=0.05))\n",
        "    model.add(LSTM(128, return_sequences=True))\n",
        "    model.add(Dropout(rate=0.05))\n",
        "    model.add(LSTM(units=128, return_sequences=False))\n",
        "    model.add(Dense(units=1))\n",
        "\n",
        "    # Utilizamos el optimizador Adam (Por defecto learning_rate=0.001)\n",
        "    model.compile(optimizer=\"Adam\",\n",
        "        loss=\"mean_squared_error\",\n",
        "        metrics=[tf.keras.metrics.RootMeanSquaredError(),\n",
        "                 tf.keras.metrics.MeanAbsoluteError(),\n",
        "                 tf.keras.metrics.MeanAbsolutePercentageError()]\n",
        "    )\n",
        "    return model"
      ]
    },
    {
      "cell_type": "code",
      "execution_count": null,
      "metadata": {
        "id": "Es0_U5whfuno"
      },
      "outputs": [],
      "source": [
        "def train_model(X_train, y_train):\n",
        "    n_samples, n_steps_before, n_series = X_train.shape\n",
        "\n",
        "    model = define_model(n_steps_before, n_series)\n",
        "    history = model.fit(\n",
        "        X_train,\n",
        "        y_train,\n",
        "        validation_split=0.05,\n",
        "        epochs= 60,\n",
        "        batch_size= 32,\n",
        "        verbose= 1,\n",
        "        callbacks=[callback, mc],\n",
        "        shuffle=True\n",
        "    )\n",
        "\n",
        "    return model, history.history, n_series"
      ]
    },
    {
      "cell_type": "code",
      "execution_count": null,
      "metadata": {
        "colab": {
          "base_uri": "https://localhost:8080/"
        },
        "id": "G7KF1FduMCpJ",
        "outputId": "6e82db31-2f24-4adf-a8af-b748196d715c"
      },
      "outputs": [
        {
          "output_type": "stream",
          "name": "stdout",
          "text": [
            "Epoch 1/60\n",
            "1/2 [==============>...............] - ETA: 5s - loss: 0.9337 - root_mean_squared_error: 0.9663 - mean_absolute_error: 0.8656 - mean_absolute_percentage_error: 101.4546\n",
            "Epoch 1: loss improved from inf to 0.73991, saving model to best_model_lstm.h5\n",
            "2/2 [==============================] - 7s 1s/step - loss: 0.7399 - root_mean_squared_error: 0.8602 - mean_absolute_error: 0.7526 - mean_absolute_percentage_error: 97.2921 - val_loss: 0.8757 - val_root_mean_squared_error: 0.9358 - val_mean_absolute_error: 0.9249 - val_mean_absolute_percentage_error: 85.2122\n",
            "Epoch 2/60\n",
            "1/2 [==============>...............] - ETA: 0s - loss: 0.5127 - root_mean_squared_error: 0.7160 - mean_absolute_error: 0.6203 - mean_absolute_percentage_error: 91.1032\n",
            "Epoch 2: loss improved from 0.73991 to 0.50126, saving model to best_model_lstm.h5\n",
            "2/2 [==============================] - 0s 95ms/step - loss: 0.5013 - root_mean_squared_error: 0.7080 - mean_absolute_error: 0.6051 - mean_absolute_percentage_error: 81.2677 - val_loss: 0.6094 - val_root_mean_squared_error: 0.7806 - val_mean_absolute_error: 0.7678 - val_mean_absolute_percentage_error: 70.4564\n",
            "Epoch 3/60\n",
            "1/2 [==============>...............] - ETA: 0s - loss: 0.3483 - root_mean_squared_error: 0.5902 - mean_absolute_error: 0.4597 - mean_absolute_percentage_error: 85.4262\n",
            "Epoch 3: loss improved from 0.50126 to 0.29094, saving model to best_model_lstm.h5\n",
            "2/2 [==============================] - 0s 81ms/step - loss: 0.2909 - root_mean_squared_error: 0.5394 - mean_absolute_error: 0.4337 - mean_absolute_percentage_error: 76.5783 - val_loss: 0.3585 - val_root_mean_squared_error: 0.5988 - val_mean_absolute_error: 0.5819 - val_mean_absolute_percentage_error: 52.9851\n",
            "Epoch 4/60\n",
            "1/2 [==============>...............] - ETA: 0s - loss: 0.1881 - root_mean_squared_error: 0.4338 - mean_absolute_error: 0.3804 - mean_absolute_percentage_error: 117.3747\n",
            "Epoch 4: loss improved from 0.29094 to 0.16668, saving model to best_model_lstm.h5\n",
            "2/2 [==============================] - 0s 83ms/step - loss: 0.1667 - root_mean_squared_error: 0.4083 - mean_absolute_error: 0.3466 - mean_absolute_percentage_error: 97.8096 - val_loss: 0.1797 - val_root_mean_squared_error: 0.4239 - val_mean_absolute_error: 0.3988 - val_mean_absolute_percentage_error: 35.7602\n",
            "Epoch 5/60\n",
            "1/2 [==============>...............] - ETA: 0s - loss: 0.2481 - root_mean_squared_error: 0.4981 - mean_absolute_error: 0.4203 - mean_absolute_percentage_error: 167.2517\n",
            "Epoch 5: loss did not improve from 0.16668\n",
            "2/2 [==============================] - 0s 57ms/step - loss: 0.1879 - root_mean_squared_error: 0.4335 - mean_absolute_error: 0.3407 - mean_absolute_percentage_error: 125.9317 - val_loss: 0.1643 - val_root_mean_squared_error: 0.4053 - val_mean_absolute_error: 0.3775 - val_mean_absolute_percentage_error: 33.7346\n",
            "Epoch 6/60\n",
            "1/2 [==============>...............] - ETA: 0s - loss: 0.1525 - root_mean_squared_error: 0.3906 - mean_absolute_error: 0.2960 - mean_absolute_percentage_error: 90.9398\n",
            "Epoch 6: loss improved from 0.16668 to 0.13916, saving model to best_model_lstm.h5\n",
            "2/2 [==============================] - 0s 80ms/step - loss: 0.1392 - root_mean_squared_error: 0.3730 - mean_absolute_error: 0.2597 - mean_absolute_percentage_error: 123.2573 - val_loss: 0.2138 - val_root_mean_squared_error: 0.4624 - val_mean_absolute_error: 0.4369 - val_mean_absolute_percentage_error: 39.3020\n",
            "Epoch 7/60\n",
            "1/2 [==============>...............] - ETA: 0s - loss: 0.1061 - root_mean_squared_error: 0.3257 - mean_absolute_error: 0.2256 - mean_absolute_percentage_error: 141.3210\n",
            "Epoch 7: loss improved from 0.13916 to 0.09189, saving model to best_model_lstm.h5\n",
            "2/2 [==============================] - 0s 85ms/step - loss: 0.0919 - root_mean_squared_error: 0.3031 - mean_absolute_error: 0.2165 - mean_absolute_percentage_error: 103.8897 - val_loss: 0.2531 - val_root_mean_squared_error: 0.5031 - val_mean_absolute_error: 0.4795 - val_mean_absolute_percentage_error: 43.3133\n",
            "Epoch 8/60\n",
            "1/2 [==============>...............] - ETA: 0s - loss: 0.1014 - root_mean_squared_error: 0.3185 - mean_absolute_error: 0.2426 - mean_absolute_percentage_error: 112.8451\n",
            "Epoch 8: loss improved from 0.09189 to 0.09141, saving model to best_model_lstm.h5\n",
            "2/2 [==============================] - 0s 86ms/step - loss: 0.0914 - root_mean_squared_error: 0.3023 - mean_absolute_error: 0.2439 - mean_absolute_percentage_error: 98.0904 - val_loss: 0.2515 - val_root_mean_squared_error: 0.5015 - val_mean_absolute_error: 0.4782 - val_mean_absolute_percentage_error: 43.2226\n",
            "Epoch 9/60\n",
            "1/2 [==============>...............] - ETA: 0s - loss: 0.0868 - root_mean_squared_error: 0.2947 - mean_absolute_error: 0.2406 - mean_absolute_percentage_error: 44.6371\n",
            "Epoch 9: loss did not improve from 0.09141\n",
            "2/2 [==============================] - 0s 48ms/step - loss: 0.0939 - root_mean_squared_error: 0.3064 - mean_absolute_error: 0.2564 - mean_absolute_percentage_error: 80.3038 - val_loss: 0.2053 - val_root_mean_squared_error: 0.4531 - val_mean_absolute_error: 0.4284 - val_mean_absolute_percentage_error: 38.5925\n",
            "Epoch 10/60\n",
            "1/2 [==============>...............] - ETA: 0s - loss: 0.0702 - root_mean_squared_error: 0.2650 - mean_absolute_error: 0.2293 - mean_absolute_percentage_error: 44.0961\n",
            "Epoch 10: loss improved from 0.09141 to 0.08283, saving model to best_model_lstm.h5\n",
            "2/2 [==============================] - 0s 79ms/step - loss: 0.0828 - root_mean_squared_error: 0.2878 - mean_absolute_error: 0.2444 - mean_absolute_percentage_error: 75.1829 - val_loss: 0.1354 - val_root_mean_squared_error: 0.3679 - val_mean_absolute_error: 0.3389 - val_mean_absolute_percentage_error: 30.2379\n",
            "Epoch 11/60\n",
            "1/2 [==============>...............] - ETA: 0s - loss: 0.0696 - root_mean_squared_error: 0.2639 - mean_absolute_error: 0.2104 - mean_absolute_percentage_error: 93.7802\n",
            "Epoch 11: loss improved from 0.08283 to 0.06465, saving model to best_model_lstm.h5\n",
            "2/2 [==============================] - 0s 79ms/step - loss: 0.0647 - root_mean_squared_error: 0.2543 - mean_absolute_error: 0.2091 - mean_absolute_percentage_error: 67.5512 - val_loss: 0.0728 - val_root_mean_squared_error: 0.2699 - val_mean_absolute_error: 0.2317 - val_mean_absolute_percentage_error: 20.2261\n",
            "Epoch 12/60\n",
            "1/2 [==============>...............] - ETA: 0s - loss: 0.0474 - root_mean_squared_error: 0.2176 - mean_absolute_error: 0.1784 - mean_absolute_percentage_error: 33.6888\n",
            "Epoch 12: loss improved from 0.06465 to 0.05142, saving model to best_model_lstm.h5\n",
            "2/2 [==============================] - 0s 85ms/step - loss: 0.0514 - root_mean_squared_error: 0.2268 - mean_absolute_error: 0.1815 - mean_absolute_percentage_error: 60.1669 - val_loss: 0.0397 - val_root_mean_squared_error: 0.1993 - val_mean_absolute_error: 0.1703 - val_mean_absolute_percentage_error: 14.8014\n",
            "Epoch 13/60\n",
            "1/2 [==============>...............] - ETA: 0s - loss: 0.0558 - root_mean_squared_error: 0.2363 - mean_absolute_error: 0.1814 - mean_absolute_percentage_error: 30.4926\n",
            "Epoch 13: loss did not improve from 0.05142\n",
            "2/2 [==============================] - 0s 49ms/step - loss: 0.0533 - root_mean_squared_error: 0.2308 - mean_absolute_error: 0.1812 - mean_absolute_percentage_error: 59.4056 - val_loss: 0.0309 - val_root_mean_squared_error: 0.1758 - val_mean_absolute_error: 0.1578 - val_mean_absolute_percentage_error: 13.9062\n",
            "Epoch 14/60\n",
            "1/2 [==============>...............] - ETA: 0s - loss: 0.0565 - root_mean_squared_error: 0.2377 - mean_absolute_error: 0.1883 - mean_absolute_percentage_error: 73.5419\n",
            "Epoch 14: loss did not improve from 0.05142\n",
            "2/2 [==============================] - 0s 47ms/step - loss: 0.0533 - root_mean_squared_error: 0.2310 - mean_absolute_error: 0.1843 - mean_absolute_percentage_error: 63.6182 - val_loss: 0.0384 - val_root_mean_squared_error: 0.1958 - val_mean_absolute_error: 0.1671 - val_mean_absolute_percentage_error: 14.5033\n",
            "Epoch 15/60\n",
            "1/2 [==============>...............] - ETA: 0s - loss: 0.0486 - root_mean_squared_error: 0.2206 - mean_absolute_error: 0.1769 - mean_absolute_percentage_error: 70.0271\n",
            "Epoch 15: loss improved from 0.05142 to 0.04390, saving model to best_model_lstm.h5\n",
            "2/2 [==============================] - 0s 78ms/step - loss: 0.0439 - root_mean_squared_error: 0.2095 - mean_absolute_error: 0.1625 - mean_absolute_percentage_error: 57.2660 - val_loss: 0.0592 - val_root_mean_squared_error: 0.2433 - val_mean_absolute_error: 0.2009 - val_mean_absolute_percentage_error: 17.3186\n",
            "Epoch 16/60\n",
            "1/2 [==============>...............] - ETA: 0s - loss: 0.0363 - root_mean_squared_error: 0.1904 - mean_absolute_error: 0.1450 - mean_absolute_percentage_error: 75.5258\n",
            "Epoch 16: loss improved from 0.04390 to 0.03695, saving model to best_model_lstm.h5\n",
            "2/2 [==============================] - 0s 81ms/step - loss: 0.0369 - root_mean_squared_error: 0.1922 - mean_absolute_error: 0.1470 - mean_absolute_percentage_error: 53.5184 - val_loss: 0.0811 - val_root_mean_squared_error: 0.2848 - val_mean_absolute_error: 0.2472 - val_mean_absolute_percentage_error: 21.6158\n",
            "Epoch 17/60\n",
            "1/2 [==============>...............] - ETA: 0s - loss: 0.0428 - root_mean_squared_error: 0.2069 - mean_absolute_error: 0.1634 - mean_absolute_percentage_error: 74.5671\n",
            "Epoch 17: loss did not improve from 0.03695\n",
            "2/2 [==============================] - 0s 49ms/step - loss: 0.0397 - root_mean_squared_error: 0.1992 - mean_absolute_error: 0.1582 - mean_absolute_percentage_error: 51.7545 - val_loss: 0.0805 - val_root_mean_squared_error: 0.2837 - val_mean_absolute_error: 0.2425 - val_mean_absolute_percentage_error: 21.1215\n",
            "Epoch 18/60\n",
            "1/2 [==============>...............] - ETA: 0s - loss: 0.0459 - root_mean_squared_error: 0.2142 - mean_absolute_error: 0.1781 - mean_absolute_percentage_error: 74.3052\n",
            "Epoch 18: loss did not improve from 0.03695\n",
            "2/2 [==============================] - 0s 45ms/step - loss: 0.0376 - root_mean_squared_error: 0.1940 - mean_absolute_error: 0.1569 - mean_absolute_percentage_error: 51.3767 - val_loss: 0.0624 - val_root_mean_squared_error: 0.2498 - val_mean_absolute_error: 0.2057 - val_mean_absolute_percentage_error: 17.7422\n",
            "Epoch 19/60\n",
            "1/2 [==============>...............] - ETA: 0s - loss: 0.0373 - root_mean_squared_error: 0.1933 - mean_absolute_error: 0.1599 - mean_absolute_percentage_error: 60.1140\n",
            "Epoch 19: loss improved from 0.03695 to 0.03214, saving model to best_model_lstm.h5\n",
            "2/2 [==============================] - 0s 79ms/step - loss: 0.0321 - root_mean_squared_error: 0.1793 - mean_absolute_error: 0.1467 - mean_absolute_percentage_error: 53.3479 - val_loss: 0.0431 - val_root_mean_squared_error: 0.2077 - val_mean_absolute_error: 0.1922 - val_mean_absolute_percentage_error: 17.1374\n",
            "Epoch 20/60\n",
            "1/2 [==============>...............] - ETA: 0s - loss: 0.0317 - root_mean_squared_error: 0.1780 - mean_absolute_error: 0.1502 - mean_absolute_percentage_error: 44.0270\n",
            "Epoch 20: loss improved from 0.03214 to 0.02909, saving model to best_model_lstm.h5\n",
            "2/2 [==============================] - 0s 81ms/step - loss: 0.0291 - root_mean_squared_error: 0.1706 - mean_absolute_error: 0.1352 - mean_absolute_percentage_error: 55.1448 - val_loss: 0.0344 - val_root_mean_squared_error: 0.1856 - val_mean_absolute_error: 0.1813 - val_mean_absolute_percentage_error: 16.5853\n",
            "Epoch 21/60\n",
            "1/2 [==============>...............] - ETA: 0s - loss: 0.0229 - root_mean_squared_error: 0.1514 - mean_absolute_error: 0.1258 - mean_absolute_percentage_error: 40.6822\n",
            "Epoch 21: loss did not improve from 0.02909\n",
            "2/2 [==============================] - 0s 48ms/step - loss: 0.0305 - root_mean_squared_error: 0.1746 - mean_absolute_error: 0.1379 - mean_absolute_percentage_error: 57.1486 - val_loss: 0.0341 - val_root_mean_squared_error: 0.1847 - val_mean_absolute_error: 0.1804 - val_mean_absolute_percentage_error: 16.5351\n",
            "Epoch 22/60\n",
            "1/2 [==============>...............] - ETA: 0s - loss: 0.0383 - root_mean_squared_error: 0.1956 - mean_absolute_error: 0.1574 - mean_absolute_percentage_error: 63.4603\n",
            "Epoch 22: loss improved from 0.02909 to 0.02790, saving model to best_model_lstm.h5\n",
            "2/2 [==============================] - 0s 81ms/step - loss: 0.0279 - root_mean_squared_error: 0.1670 - mean_absolute_error: 0.1296 - mean_absolute_percentage_error: 50.3621 - val_loss: 0.0396 - val_root_mean_squared_error: 0.1990 - val_mean_absolute_error: 0.1887 - val_mean_absolute_percentage_error: 16.9778\n",
            "Epoch 23/60\n",
            "1/2 [==============>...............] - ETA: 0s - loss: 0.0246 - root_mean_squared_error: 0.1568 - mean_absolute_error: 0.1223 - mean_absolute_percentage_error: 65.5232\n",
            "Epoch 23: loss improved from 0.02790 to 0.02474, saving model to best_model_lstm.h5\n",
            "2/2 [==============================] - 0s 81ms/step - loss: 0.0247 - root_mean_squared_error: 0.1573 - mean_absolute_error: 0.1241 - mean_absolute_percentage_error: 46.8548 - val_loss: 0.0545 - val_root_mean_squared_error: 0.2335 - val_mean_absolute_error: 0.2046 - val_mean_absolute_percentage_error: 17.9125\n",
            "Epoch 24/60\n",
            "1/2 [==============>...............] - ETA: 0s - loss: 0.0224 - root_mean_squared_error: 0.1496 - mean_absolute_error: 0.1124 - mean_absolute_percentage_error: 49.7545\n",
            "Epoch 24: loss improved from 0.02474 to 0.02421, saving model to best_model_lstm.h5\n",
            "2/2 [==============================] - 0s 87ms/step - loss: 0.0242 - root_mean_squared_error: 0.1556 - mean_absolute_error: 0.1211 - mean_absolute_percentage_error: 37.7276 - val_loss: 0.0733 - val_root_mean_squared_error: 0.2707 - val_mean_absolute_error: 0.2194 - val_mean_absolute_percentage_error: 18.8164\n",
            "Epoch 25/60\n",
            "1/2 [==============>...............] - ETA: 0s - loss: 0.0209 - root_mean_squared_error: 0.1445 - mean_absolute_error: 0.1190 - mean_absolute_percentage_error: 49.9157\n",
            "Epoch 25: loss improved from 0.02421 to 0.02336, saving model to best_model_lstm.h5\n",
            "2/2 [==============================] - 0s 83ms/step - loss: 0.0234 - root_mean_squared_error: 0.1529 - mean_absolute_error: 0.1248 - mean_absolute_percentage_error: 39.5939 - val_loss: 0.0829 - val_root_mean_squared_error: 0.2879 - val_mean_absolute_error: 0.2340 - val_mean_absolute_percentage_error: 20.0852\n",
            "Epoch 26/60\n",
            "1/2 [==============>...............] - ETA: 0s - loss: 0.0198 - root_mean_squared_error: 0.1407 - mean_absolute_error: 0.1106 - mean_absolute_percentage_error: 47.5566\n",
            "Epoch 26: loss improved from 0.02336 to 0.02073, saving model to best_model_lstm.h5\n",
            "2/2 [==============================] - 0s 82ms/step - loss: 0.0207 - root_mean_squared_error: 0.1440 - mean_absolute_error: 0.1146 - mean_absolute_percentage_error: 38.1340 - val_loss: 0.0795 - val_root_mean_squared_error: 0.2820 - val_mean_absolute_error: 0.2287 - val_mean_absolute_percentage_error: 19.6249\n",
            "Epoch 27/60\n",
            "1/2 [==============>...............] - ETA: 0s - loss: 0.0170 - root_mean_squared_error: 0.1303 - mean_absolute_error: 0.1050 - mean_absolute_percentage_error: 21.3034\n",
            "Epoch 27: loss did not improve from 0.02073\n",
            "2/2 [==============================] - 0s 51ms/step - loss: 0.0221 - root_mean_squared_error: 0.1488 - mean_absolute_error: 0.1159 - mean_absolute_percentage_error: 45.5525 - val_loss: 0.0712 - val_root_mean_squared_error: 0.2668 - val_mean_absolute_error: 0.2261 - val_mean_absolute_percentage_error: 19.6320\n",
            "Epoch 28/60\n",
            "1/2 [==============>...............] - ETA: 0s - loss: 0.0259 - root_mean_squared_error: 0.1609 - mean_absolute_error: 0.1291 - mean_absolute_percentage_error: 59.7028\n",
            "Epoch 28: loss did not improve from 0.02073\n",
            "2/2 [==============================] - 0s 47ms/step - loss: 0.0219 - root_mean_squared_error: 0.1480 - mean_absolute_error: 0.1164 - mean_absolute_percentage_error: 42.3026 - val_loss: 0.0601 - val_root_mean_squared_error: 0.2452 - val_mean_absolute_error: 0.2190 - val_mean_absolute_percentage_error: 19.2907\n",
            "Epoch 29/60\n",
            "1/2 [==============>...............] - ETA: 0s - loss: 0.0195 - root_mean_squared_error: 0.1396 - mean_absolute_error: 0.1142 - mean_absolute_percentage_error: 50.9205\n",
            "Epoch 29: loss improved from 0.02073 to 0.01901, saving model to best_model_lstm.h5\n",
            "2/2 [==============================] - 0s 82ms/step - loss: 0.0190 - root_mean_squared_error: 0.1379 - mean_absolute_error: 0.1073 - mean_absolute_percentage_error: 36.3167 - val_loss: 0.0591 - val_root_mean_squared_error: 0.2431 - val_mean_absolute_error: 0.2185 - val_mean_absolute_percentage_error: 19.2890\n",
            "Epoch 30/60\n",
            "1/2 [==============>...............] - ETA: 0s - loss: 0.0215 - root_mean_squared_error: 0.1467 - mean_absolute_error: 0.1155 - mean_absolute_percentage_error: 42.7188\n",
            "Epoch 30: loss did not improve from 0.01901\n",
            "2/2 [==============================] - 0s 49ms/step - loss: 0.0198 - root_mean_squared_error: 0.1408 - mean_absolute_error: 0.1107 - mean_absolute_percentage_error: 35.8168 - val_loss: 0.0662 - val_root_mean_squared_error: 0.2574 - val_mean_absolute_error: 0.2247 - val_mean_absolute_percentage_error: 19.6696\n",
            "Epoch 31/60\n",
            "1/2 [==============>...............] - ETA: 0s - loss: 0.0166 - root_mean_squared_error: 0.1290 - mean_absolute_error: 0.0957 - mean_absolute_percentage_error: 40.7642\n",
            "Epoch 31: loss improved from 0.01901 to 0.01747, saving model to best_model_lstm.h5\n",
            "2/2 [==============================] - 0s 94ms/step - loss: 0.0175 - root_mean_squared_error: 0.1322 - mean_absolute_error: 0.1006 - mean_absolute_percentage_error: 34.1640 - val_loss: 0.0794 - val_root_mean_squared_error: 0.2817 - val_mean_absolute_error: 0.2345 - val_mean_absolute_percentage_error: 20.2679\n",
            "Epoch 32/60\n",
            "1/2 [==============>...............] - ETA: 0s - loss: 0.0183 - root_mean_squared_error: 0.1351 - mean_absolute_error: 0.1026 - mean_absolute_percentage_error: 46.9339\n",
            "Epoch 32: loss did not improve from 0.01747\n",
            "2/2 [==============================] - 0s 50ms/step - loss: 0.0194 - root_mean_squared_error: 0.1394 - mean_absolute_error: 0.1082 - mean_absolute_percentage_error: 36.9651 - val_loss: 0.0822 - val_root_mean_squared_error: 0.2866 - val_mean_absolute_error: 0.2370 - val_mean_absolute_percentage_error: 20.4499\n",
            "Epoch 33/60\n",
            "1/2 [==============>...............] - ETA: 0s - loss: 0.0210 - root_mean_squared_error: 0.1450 - mean_absolute_error: 0.1143 - mean_absolute_percentage_error: 50.9051\n",
            "Epoch 33: loss did not improve from 0.01747\n",
            "2/2 [==============================] - 0s 45ms/step - loss: 0.0188 - root_mean_squared_error: 0.1369 - mean_absolute_error: 0.1105 - mean_absolute_percentage_error: 37.4165 - val_loss: 0.0764 - val_root_mean_squared_error: 0.2763 - val_mean_absolute_error: 0.2349 - val_mean_absolute_percentage_error: 20.4125\n",
            "Epoch 34/60\n",
            "1/2 [==============>...............] - ETA: 0s - loss: 0.0169 - root_mean_squared_error: 0.1300 - mean_absolute_error: 0.0964 - mean_absolute_percentage_error: 44.9740\n",
            "Epoch 34: loss did not improve from 0.01747\n",
            "2/2 [==============================] - 0s 45ms/step - loss: 0.0179 - root_mean_squared_error: 0.1339 - mean_absolute_error: 0.1050 - mean_absolute_percentage_error: 39.6199 - val_loss: 0.0673 - val_root_mean_squared_error: 0.2594 - val_mean_absolute_error: 0.2300 - val_mean_absolute_percentage_error: 20.2317\n"
          ]
        }
      ],
      "source": [
        "#Entrenamos el modelo y obtenemos el historial\n",
        "model, history, n_series=train_model(X_train, Y_train)\n"
      ]
    },
    {
      "cell_type": "markdown",
      "metadata": {
        "id": "Pk5rraLGiHzy"
      },
      "source": [
        "# **CURVA DE APRENDIZAJE**"
      ]
    },
    {
      "cell_type": "code",
      "execution_count": null,
      "metadata": {
        "id": "vmYslwKhkwcx"
      },
      "outputs": [],
      "source": [
        "\n",
        "def plot_history_training(history):\n",
        "    fig = plt.figure(figsize=(18, 4))\n",
        "    plt.subplot(1, 3, 1)\n",
        "    plt.title(\"Raiz del error cuadrático medio (RMSE)\")\n",
        "    plt.plot(history[\"root_mean_squared_error\"], label=\"train\")\n",
        "    plt.plot(history[\"val_root_mean_squared_error\"], label=\"val\")\n",
        "    plt.grid(alpha=0.4)\n",
        "    plt.xlabel('Epoca')\n",
        "    plt.ylabel('RMSE')\n",
        "    plt.title('Curva de Aprendizaje')\n",
        "    plt.legend()\n",
        "\n",
        "    plt.subplot(1, 3, 2)\n",
        "    plt.title(\"Error absoluto promedio (MAE)\")\n",
        "    plt.plot(history[\"mean_absolute_error\"], label=\"train\")\n",
        "    plt.plot(history[\"val_mean_absolute_error\"], label=\"val\")\n",
        "    plt.grid(alpha=0.4)\n",
        "    plt.xlabel('Epoca')\n",
        "    plt.ylabel('MAE')\n",
        "    plt.title('Curva de Aprendizaje')\n",
        "    plt.legend()\n",
        "\n",
        "    plt.subplot(1, 3, 3)\n",
        "    plt.title(\"Porcentaje de error absoluto promedio (MAPE)\")\n",
        "    plt.plot(history[\"mean_absolute_percentage_error\"], label=\"train\")\n",
        "    plt.plot(history[\"val_mean_absolute_percentage_error\"], label=\"val\")\n",
        "    plt.grid(alpha=0.4)\n",
        "    plt.xlabel('Epoca')\n",
        "    plt.ylabel('MAPE')\n",
        "    plt.title('Curva de Aprendizaje')\n",
        "    plt.legend()\n",
        "\n",
        "    return fig"
      ]
    },
    {
      "cell_type": "code",
      "execution_count": null,
      "metadata": {
        "colab": {
          "base_uri": "https://localhost:8080/",
          "height": 295
        },
        "id": "IXlY5GU-ldAh",
        "outputId": "723be7e3-229c-4999-bb45-571f51e7c967"
      },
      "outputs": [
        {
          "output_type": "display_data",
          "data": {
            "text/plain": [
              "<Figure size 1296x288 with 3 Axes>"
            ],
            "image/png": "[encoded data removed]"
          },
          "metadata": {
            "needs_background": "light"
          }
        }
      ],
      "source": [
        "# Ploteamos el history\n",
        "fig= plot_history_training(history)"
      ]
    },
    {
      "cell_type": "code",
      "execution_count": null,
      "metadata": {
        "id": "08FR_tVGLXOB"
      },
      "outputs": [],
      "source": [
        "from keras.models import load_model\n",
        "\n",
        "model = load_model('best_model_lstm.h5', compile=False)"
      ]
    },
    {
      "cell_type": "markdown",
      "metadata": {
        "id": "dCIRii85qV7L"
      },
      "source": [
        "# **REENTRENAMIENTO SIN VALIDACION**"
      ]
    },
    {
      "cell_type": "code",
      "execution_count": null,
      "metadata": {
        "colab": {
          "base_uri": "https://localhost:8080/"
        },
        "id": "Hzpi4HqcqnBc",
        "outputId": "6ceac8f1-b7aa-44a2-d487-7f5d8b479d27"
      },
      "outputs": [
        {
          "output_type": "stream",
          "name": "stdout",
          "text": [
            "Epoch 1/20\n",
            "2/2 [==============================] - 5s 28ms/step - loss: 0.0277\n",
            "Epoch 2/20\n",
            "2/2 [==============================] - 0s 21ms/step - loss: 0.0257\n",
            "Epoch 3/20\n",
            "2/2 [==============================] - 0s 29ms/step - loss: 0.0329\n",
            "Epoch 4/20\n",
            "2/2 [==============================] - 0s 21ms/step - loss: 0.0210\n",
            "Epoch 5/20\n",
            "2/2 [==============================] - 0s 22ms/step - loss: 0.0233\n",
            "Epoch 6/20\n",
            "2/2 [==============================] - 0s 22ms/step - loss: 0.0254\n",
            "Epoch 7/20\n",
            "2/2 [==============================] - 0s 24ms/step - loss: 0.0163\n",
            "Epoch 8/20\n",
            "2/2 [==============================] - 0s 21ms/step - loss: 0.0177\n",
            "Epoch 9/20\n",
            "2/2 [==============================] - 0s 27ms/step - loss: 0.0165\n",
            "Epoch 10/20\n",
            "2/2 [==============================] - 0s 22ms/step - loss: 0.0174\n",
            "Epoch 11/20\n",
            "2/2 [==============================] - 0s 22ms/step - loss: 0.0154\n",
            "Epoch 12/20\n",
            "2/2 [==============================] - 0s 22ms/step - loss: 0.0157\n",
            "Epoch 13/20\n",
            "2/2 [==============================] - 0s 22ms/step - loss: 0.0150\n",
            "Epoch 14/20\n",
            "2/2 [==============================] - 0s 23ms/step - loss: 0.0148\n",
            "Epoch 15/20\n",
            "2/2 [==============================] - 0s 23ms/step - loss: 0.0140\n",
            "Epoch 16/20\n",
            "2/2 [==============================] - 0s 23ms/step - loss: 0.0115\n",
            "Epoch 17/20\n",
            "2/2 [==============================] - 0s 23ms/step - loss: 0.0124\n",
            "Epoch 18/20\n",
            "2/2 [==============================] - 0s 24ms/step - loss: 0.0112\n",
            "Epoch 19/20\n",
            "2/2 [==============================] - 0s 22ms/step - loss: 0.0110\n",
            "Epoch 20/20\n",
            "2/2 [==============================] - 0s 22ms/step - loss: 0.0109\n"
          ]
        },
        {
          "output_type": "execute_result",
          "data": {
            "text/plain": [
              "<keras.callbacks.History at 0x7fb7d893b710>"
            ]
          },
          "metadata": {},
          "execution_count": 34
        }
      ],
      "source": [
        "model.compile(optimizer='adam', loss='mean_squared_error')\n",
        "    \n",
        "model.fit(X_train,Y_train, epochs= 20, batch_size= 32)\n"
      ]
    },
    {
      "cell_type": "markdown",
      "metadata": {
        "id": "3NR5AH0IiHzz"
      },
      "source": [
        "# **PREDICCIONES DEL MODELO**"
      ]
    },
    {
      "cell_type": "code",
      "execution_count": null,
      "metadata": {
        "id": "hjx6n7AJN_ly"
      },
      "outputs": [],
      "source": [
        "# make predictions\n",
        "trainPredict1 = model.predict(X_train)\n",
        "testPredict1 = model.predict(X_test)"
      ]
    },
    {
      "cell_type": "code",
      "execution_count": null,
      "metadata": {
        "id": "RR_gquTMCDLH"
      },
      "outputs": [],
      "source": [
        "# Se devuelven los valores originales\n",
        "trainPredict=scaler.inverse_transform(trainPredict1)\n",
        "testPredict=scaler.inverse_transform(testPredict1)\n",
        "Y_train_o=scaler.inverse_transform(Y_train)\n",
        "Y_test_o=scaler.inverse_transform(Y_test)"
      ]
    },
    {
      "cell_type": "markdown",
      "metadata": {
        "id": "kxsXzl8oqw9J"
      },
      "source": [
        "# **GRÁFICO CON PREDICCIONES**"
      ]
    },
    {
      "cell_type": "code",
      "execution_count": null,
      "metadata": {
        "id": "XtzeWjxvmTAg"
      },
      "outputs": [],
      "source": [
        "# shift train predictions for plotting\n",
        "trainPredictPlot1 = np.empty_like(df[['close']].to_numpy())\n",
        "trainPredictPlot1[:, :] = np.nan\n",
        "trainPredictPlot1[n_days_before:len(trainPredict)+n_days_before, :] = trainPredict\n",
        "trainPredictPlot1=pd.DataFrame(trainPredictPlot1)\n",
        "trainPredictPlot1.columns=['Train']\n",
        "\n",
        "# shift test predictions for plotting\n",
        "testPredictPlot1 = np.empty_like(df[['close']].to_numpy())\n",
        "testPredictPlot1[:, :] = np.nan\n",
        "testPredictPlot1[len(trainPredict)+n_days_before-1:len(trainPredict)+n_days_before+len(testPredict), :] = testPredict\n",
        "testPredictPlot1=pd.DataFrame(testPredictPlot1)\n",
        "testPredictPlot1.columns=['Test']\n",
        "\n",
        "#Uniendo en un solo DataFramePredict\n",
        "PredictDatetime=df_PCA[['close']]\n",
        "PredictDatetime=PredictDatetime.reset_index()\n",
        "\n",
        "PredictPlot=pd.concat([PredictDatetime,trainPredictPlot1,testPredictPlot1], axis=1)"
      ]
    },
    {
      "cell_type": "code",
      "execution_count": null,
      "metadata": {
        "id": "oAg4VLNWJMeK",
        "colab": {
          "base_uri": "https://localhost:8080/",
          "height": 318
        },
        "outputId": "0067a006-2640-41ee-9b42-98c149530764"
      },
      "outputs": [
        {
          "output_type": "execute_result",
          "data": {
            "text/plain": [
              "Text(0.5, 1.0, 'SP&500')"
            ]
          },
          "metadata": {},
          "execution_count": 38
        },
        {
          "output_type": "display_data",
          "data": {
            "text/plain": [
              "<Figure size 432x288 with 1 Axes>"
            ],
            "image/png": "[encoded data removed]"
          },
          "metadata": {
            "needs_background": "light"
          }
        }
      ],
      "source": [
        "PredictPlot.plot(x=\"datetime\")\n",
        "plt.xlabel('Fecha')\n",
        "plt.ylabel('Precio de Cierre en USD')\n",
        "plt.title('SP&500')"
      ]
    },
    {
      "cell_type": "markdown",
      "metadata": {
        "id": "4K76FAIssu8f"
      },
      "source": [
        "# **METRICAS**"
      ]
    },
    {
      "cell_type": "code",
      "execution_count": null,
      "metadata": {
        "id": "yMCEg0yMUpUq"
      },
      "outputs": [],
      "source": [
        "Y_trainf=pd.DataFrame(Y_train_o[:,0])\n",
        "Y_testf=pd.DataFrame(Y_test_o[:,0])"
      ]
    },
    {
      "cell_type": "code",
      "execution_count": null,
      "metadata": {
        "id": "_ZELCqYhPOZw",
        "colab": {
          "base_uri": "https://localhost:8080/"
        },
        "outputId": "39e3ac38-fb0d-4c7d-90e1-67262cd1e76b"
      },
      "outputs": [
        {
          "output_type": "stream",
          "name": "stdout",
          "text": [
            "Train Score: 14.43 RMSE\n",
            "Test Score: 30.84 RMSE\n",
            "Train Score: 11.08 MAE\n",
            "Test Score: 22.65 MAE\n",
            "Train Score: 0.0037 MAPE\n",
            "Test Score: 0.0071 MAPE\n"
          ]
        }
      ],
      "source": [
        "import math\n",
        "from sklearn.metrics import mean_squared_error as mse\n",
        "from sklearn.metrics import mean_absolute_error as mae\n",
        "from sklearn.metrics import mean_absolute_percentage_error as mape\n",
        "\n",
        "# calculate root mean squared error\n",
        "train_rmse_Score = math.sqrt(mse(Y_trainf, trainPredict))\n",
        "print('Train Score: %.2f RMSE' % (train_rmse_Score))\n",
        "test_rmse_Score = math.sqrt(mse(Y_testf, testPredict))\n",
        "print('Test Score: %.2f RMSE' % (test_rmse_Score))\n",
        "\n",
        "# calculate mean absolute error\n",
        "train_mae_Score = mae(Y_trainf, trainPredict)\n",
        "print('Train Score: %.2f MAE' % (train_mae_Score))\n",
        "test_mae_Score = mae(Y_testf, testPredict)\n",
        "print('Test Score: %.2f MAE' % (test_mae_Score))\n",
        "\n",
        "# calculate root mean squared error\n",
        "train_mape_Score = mape(Y_trainf, trainPredict)\n",
        "print('Train Score: %.4f MAPE' % (train_mape_Score))\n",
        "test_mape_Score = mape(Y_testf, testPredict)\n",
        "print('Test Score: %.4f MAPE' % (test_mape_Score))\n"
      ]
    },
    {
      "cell_type": "markdown",
      "metadata": {
        "id": "tS4mfZnbs8zF"
      },
      "source": [
        "# **REENTRENAMIENTO CON TODOS LOS DATOS**"
      ]
    },
    {
      "cell_type": "code",
      "execution_count": null,
      "metadata": {
        "id": "EOVQK13Tt8OX"
      },
      "outputs": [],
      "source": [
        "#Preparación de los datos\n",
        "X_data, Y_data=model_data_to_time_series(dff, target_serie,n_days_before,n_days_future)"
      ]
    },
    {
      "cell_type": "code",
      "execution_count": null,
      "metadata": {
        "id": "7D9M90_wvHWA",
        "colab": {
          "base_uri": "https://localhost:8080/"
        },
        "outputId": "3222b36c-f540-4e8e-9117-060a8c436b32"
      },
      "outputs": [
        {
          "output_type": "stream",
          "name": "stdout",
          "text": [
            "Epoch 1/20\n",
            "2/2 [==============================] - 4s 22ms/step - loss: 0.0252\n",
            "Epoch 2/20\n",
            "2/2 [==============================] - 0s 23ms/step - loss: 0.0170\n",
            "Epoch 3/20\n",
            "2/2 [==============================] - 0s 22ms/step - loss: 0.0221\n",
            "Epoch 4/20\n",
            "2/2 [==============================] - 0s 23ms/step - loss: 0.0157\n",
            "Epoch 5/20\n",
            "2/2 [==============================] - 0s 23ms/step - loss: 0.0214\n",
            "Epoch 6/20\n",
            "2/2 [==============================] - 0s 23ms/step - loss: 0.0141\n",
            "Epoch 7/20\n",
            "2/2 [==============================] - 0s 25ms/step - loss: 0.0144\n",
            "Epoch 8/20\n",
            "2/2 [==============================] - 0s 23ms/step - loss: 0.0119\n",
            "Epoch 9/20\n",
            "2/2 [==============================] - 0s 22ms/step - loss: 0.0134\n",
            "Epoch 10/20\n",
            "2/2 [==============================] - 0s 34ms/step - loss: 0.0116\n",
            "Epoch 11/20\n",
            "2/2 [==============================] - 0s 24ms/step - loss: 0.0095\n",
            "Epoch 12/20\n",
            "2/2 [==============================] - 0s 23ms/step - loss: 0.0089\n",
            "Epoch 13/20\n",
            "2/2 [==============================] - 0s 23ms/step - loss: 0.0102\n",
            "Epoch 14/20\n",
            "2/2 [==============================] - 0s 26ms/step - loss: 0.0098\n",
            "Epoch 15/20\n",
            "2/2 [==============================] - 0s 23ms/step - loss: 0.0103\n",
            "Epoch 16/20\n",
            "2/2 [==============================] - 0s 26ms/step - loss: 0.0081\n",
            "Epoch 17/20\n",
            "2/2 [==============================] - 0s 23ms/step - loss: 0.0085\n",
            "Epoch 18/20\n",
            "2/2 [==============================] - 0s 24ms/step - loss: 0.0084\n",
            "Epoch 19/20\n",
            "2/2 [==============================] - 0s 23ms/step - loss: 0.0071\n",
            "Epoch 20/20\n",
            "2/2 [==============================] - 0s 22ms/step - loss: 0.0084\n"
          ]
        },
        {
          "output_type": "execute_result",
          "data": {
            "text/plain": [
              "<keras.callbacks.History at 0x7fb7d556fa10>"
            ]
          },
          "metadata": {},
          "execution_count": 42
        }
      ],
      "source": [
        "#Ajuste del modelo con todos los datos\n",
        "model.compile(optimizer='adam', loss='mean_squared_error') \n",
        "model.fit(X_data,Y_data, epochs= 20, batch_size= 32)"
      ]
    },
    {
      "cell_type": "code",
      "execution_count": null,
      "metadata": {
        "id": "LklNK288wITJ"
      },
      "outputs": [],
      "source": [
        "# Predicciones del modelo para el conjunto de datos\n",
        "dataPredict1 = model.predict(X_data)"
      ]
    },
    {
      "cell_type": "code",
      "execution_count": null,
      "metadata": {
        "id": "ff1ht_9wwUmv"
      },
      "outputs": [],
      "source": [
        "# Valores originales\n",
        "dataPredict=scaler.inverse_transform(dataPredict1)\n",
        "Y_data_o=scaler.inverse_transform(Y_data)"
      ]
    },
    {
      "cell_type": "code",
      "execution_count": null,
      "metadata": {
        "id": "Ga_i6Mgqwuqa"
      },
      "outputs": [],
      "source": [
        "# shift train predictions for plotting\n",
        "dataPredictPlot1 = np.empty_like(df[['close']].to_numpy())\n",
        "dataPredictPlot1[:, :] = np.nan\n",
        "dataPredictPlot1[n_days_before:len(dataPredict)+n_days_before, :] = dataPredict\n",
        "dataPredictPlot1=pd.DataFrame(dataPredictPlot1)\n",
        "dataPredictPlot1.columns=['Model']\n",
        "\n",
        "#Uniendo en un solo DataFramePredict\n",
        "PredictDatetime=df_PCA[['close']]\n",
        "PredictDatetime=PredictDatetime.reset_index()\n",
        "\n",
        "PredictPlot2=pd.concat([PredictDatetime,dataPredictPlot1], axis=1)"
      ]
    },
    {
      "cell_type": "code",
      "execution_count": null,
      "metadata": {
        "id": "ntCF9br_xMCO",
        "colab": {
          "base_uri": "https://localhost:8080/",
          "height": 318
        },
        "outputId": "ecd9a30c-9fcd-44bb-ad53-3d99c6a7567d"
      },
      "outputs": [
        {
          "output_type": "execute_result",
          "data": {
            "text/plain": [
              "Text(0.5, 1.0, 'SP&500')"
            ]
          },
          "metadata": {},
          "execution_count": 46
        },
        {
          "output_type": "display_data",
          "data": {
            "text/plain": [
              "<Figure size 432x288 with 1 Axes>"
            ],
            "image/png": "[encoded data removed]"
          },
          "metadata": {
            "needs_background": "light"
          }
        }
      ],
      "source": [
        "PredictPlot2.plot(x=\"datetime\")\n",
        "plt.xlabel('Fecha')\n",
        "plt.ylabel('Precio de Cierre en USD')\n",
        "plt.title('SP&500')"
      ]
    },
    {
      "cell_type": "markdown",
      "source": [
        "# **MÉTRICA CON TODOS LOS DATOS**"
      ],
      "metadata": {
        "id": "RAOwL1vb5sFc"
      }
    },
    {
      "cell_type": "code",
      "source": [
        "Y_dataf=pd.DataFrame(Y_data_o[:,0])\n",
        "\n",
        "# calculate root mean squared error\n",
        "train_rmse_Score = math.sqrt(mse(Y_dataf, dataPredict))\n",
        "print('Train Score: %.2f RMSE' % (train_rmse_Score))\n",
        "\n",
        "# calculate mean absolute error\n",
        "train_mae_Score = mae(Y_dataf, dataPredict)\n",
        "print('Train Score: %.2f MAE' % (train_mae_Score))\n",
        "\n",
        "# calculate root mean squared error\n",
        "train_mape_Score = mape(Y_dataf, dataPredict)\n",
        "print('Train Score: %.4f MAPE' % (train_mape_Score))\n",
        "\n"
      ],
      "metadata": {
        "colab": {
          "base_uri": "https://localhost:8080/"
        },
        "id": "DdJN4Ped5prx",
        "outputId": "e5036d03-caf0-4e13-9a91-e811d15219a9"
      },
      "execution_count": null,
      "outputs": [
        {
          "output_type": "stream",
          "name": "stdout",
          "text": [
            "Train Score: 11.53 RMSE\n",
            "Train Score: 9.38 MAE\n",
            "Train Score: 0.0031 MAPE\n"
          ]
        }
      ]
    },
    {
      "cell_type": "markdown",
      "metadata": {
        "id": "HzuZfd7LyxVO"
      },
      "source": [
        "# **PREDICCIONES FINALES**"
      ]
    },
    {
      "cell_type": "code",
      "source": [
        "ultimo=dff.tail(n_days_before)\n",
        "ult_reg=ultimo.tail(1)\n",
        "ultimo=ultimo.append(ult_reg)\n",
        "#Preparación de los datos\n",
        "X_dataF, Y_dataF=model_data_to_time_series(ultimo, target_serie,n_days_before,n_days_future)\n",
        "dataPredictF = model.predict(X_dataF)\n",
        "dataPredictF=scaler.inverse_transform(dataPredictF)"
      ],
      "metadata": {
        "id": "1GmIJ5x5yx29"
      },
      "execution_count": null,
      "outputs": []
    },
    {
      "cell_type": "code",
      "source": [
        "dataPredictF"
      ],
      "metadata": {
        "colab": {
          "base_uri": "https://localhost:8080/"
        },
        "id": "jB8D8sP62UIe",
        "outputId": "4fb02feb-5988-46d0-c46d-927449b02565"
      },
      "execution_count": null,
      "outputs": [
        {
          "output_type": "execute_result",
          "data": {
            "text/plain": [
              "array([[3206.7827]], dtype=float32)"
            ]
          },
          "metadata": {},
          "execution_count": 49
        }
      ]
    },
    {
      "cell_type": "markdown",
      "source": [
        "# **Direct multi-step forecasting**"
      ],
      "metadata": {
        "id": "k950YWvOU1jq"
      }
    },
    {
      "cell_type": "markdown",
      "source": [
        "#https://www.cienciadedatos.net/documentos/py27-forecasting-series-temporales-python-scikitlearn.html"
      ],
      "metadata": {
        "id": "KqLDpHZZVA6S"
      }
    }
  ],
  "metadata": {
    "colab": {
      "collapsed_sections": [
        "PpE9wYMyiHzc",
        "sfLOfWoHiHzm",
        "67gHdKf_pZYG",
        "kK0e8XqwiHzq",
        "rvcHE2ocDIDp",
        "jS5Q35GKj0L0",
        "9pFujik9HmSq",
        "Ayxc09gciHzt",
        "dCIRii85qV7L"
      ],
      "provenance": [],
      "include_colab_link": true
    },
    "gpuClass": "standard",
    "hide_input": false,
    "kernelspec": {
      "display_name": "Python 3",
      "language": "python",
      "name": "python3"
    },
    "language_info": {
      "codemirror_mode": {
        "name": "ipython",
        "version": 3
      },
      "file_extension": ".py",
      "mimetype": "text/x-python",
      "name": "python",
      "nbconvert_exporter": "python",
      "pygments_lexer": "ipython3",
      "version": "3.8.3"
    },
    "toc": {
      "base_numbering": 1,
      "nav_menu": {},
      "number_sections": true,
      "sideBar": true,
      "skip_h1_title": false,
      "title_cell": "Table of Contents",
      "title_sidebar": "Contents",
      "toc_cell": false,
      "toc_position": {},
      "toc_section_display": true,
      "toc_window_display": false
    },
    "varInspector": {
      "cols": {
        "lenName": 16,
        "lenType": 16,
        "lenVar": 40
      },
      "kernels_config": {
        "python": {
          "delete_cmd_postfix": "",
          "delete_cmd_prefix": "del ",
          "library": "var_list.py",
          "varRefreshCmd": "print(var_dic_list())"
        },
        "r": {
          "delete_cmd_postfix": ") ",
          "delete_cmd_prefix": "rm(",
          "library": "var_list.r",
          "varRefreshCmd": "cat(var_dic_list()) "
        }
      },
      "types_to_exclude": [
        "module",
        "function",
        "builtin_function_or_method",
        "instance",
        "_Feature"
      ],
      "window_display": false
    }
  },
  "nbformat": 4,
  "nbformat_minor": 0
}